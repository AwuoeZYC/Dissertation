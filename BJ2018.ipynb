{
 "cells": [
  {
   "cell_type": "code",
   "execution_count": null,
   "id": "5cba4e71",
   "metadata": {},
   "outputs": [
    {
     "name": "stdout",
     "output_type": "stream",
     "text": [
      "Closed-form discretized value for E[X_T^(1,N,h)]: 1.34865\n",
      "\n"
     ]
    },
    {
     "data": {
      "application/vnd.jupyter.widget-view+json": {
       "model_id": "1286319a40dd40c7be0d148a9bcb6380",
       "version_major": 2,
       "version_minor": 0
      },
      "text/plain": [
       "Loop over N:   0%|          | 0/5 [00:00<?, ?it/s]"
      ]
     },
     "metadata": {},
     "output_type": "display_data"
    },
    {
     "name": "stdout",
     "output_type": "stream",
     "text": [
      "\n",
      "Running for N = 20 particles...\n"
     ]
    },
    {
     "data": {
      "application/vnd.jupyter.widget-view+json": {
       "model_id": "6c766ff770a04fbbbc236991e1f032a0",
       "version_major": 2,
       "version_minor": 0
      },
      "text/plain": [
       "Monte Carlo Runs:   0%|          | 0/5000000 [00:00<?, ?it/s]"
      ]
     },
     "metadata": {},
     "output_type": "display_data"
    },
    {
     "name": "stdout",
     "output_type": "stream",
     "text": [
      "Time taken to compute X values for N=20: 171.17 seconds\n",
      "\n",
      "Running for N = 40 particles...\n"
     ]
    },
    {
     "data": {
      "application/vnd.jupyter.widget-view+json": {
       "model_id": "8328f1523b934924b7509862851ec8b6",
       "version_major": 2,
       "version_minor": 0
      },
      "text/plain": [
       "Monte Carlo Runs:   0%|          | 0/5000000 [00:00<?, ?it/s]"
      ]
     },
     "metadata": {},
     "output_type": "display_data"
    },
    {
     "name": "stdout",
     "output_type": "stream",
     "text": [
      "Time taken to compute X values for N=40: 288.35 seconds\n",
      "\n",
      "Running for N = 80 particles...\n"
     ]
    },
    {
     "data": {
      "application/vnd.jupyter.widget-view+json": {
       "model_id": "768caff043fc4cf2a96bee8921431479",
       "version_major": 2,
       "version_minor": 0
      },
      "text/plain": [
       "Monte Carlo Runs:   0%|          | 0/5000000 [00:00<?, ?it/s]"
      ]
     },
     "metadata": {},
     "output_type": "display_data"
    },
    {
     "name": "stdout",
     "output_type": "stream",
     "text": [
      "Time taken to compute X values for N=80: 528.97 seconds\n",
      "\n",
      "Running for N = 160 particles...\n"
     ]
    },
    {
     "data": {
      "application/vnd.jupyter.widget-view+json": {
       "model_id": "486f06721d5045c6ba31077704105b36",
       "version_major": 2,
       "version_minor": 0
      },
      "text/plain": [
       "Monte Carlo Runs:   0%|          | 0/5000000 [00:00<?, ?it/s]"
      ]
     },
     "metadata": {},
     "output_type": "display_data"
    },
    {
     "name": "stdout",
     "output_type": "stream",
     "text": [
      "Time taken to compute X values for N=160: 987.22 seconds\n",
      "\n",
      "Running for N = 320 particles...\n"
     ]
    },
    {
     "data": {
      "application/vnd.jupyter.widget-view+json": {
       "model_id": "6ebbab14808045c7ae9f9453b7239454",
       "version_major": 2,
       "version_minor": 0
      },
      "text/plain": [
       "Monte Carlo Runs:   0%|          | 0/5000000 [00:00<?, ?it/s]"
      ]
     },
     "metadata": {},
     "output_type": "display_data"
    },
    {
     "name": "stdout",
     "output_type": "stream",
     "text": [
      "Time taken to compute X values for N=320: 1893.07 seconds\n",
      "\n",
      "\n",
      "Closed-form discretized value (reference for 'Difference'): 1.34865\n",
      "\n",
      " Nb. particles Estimated first moment Difference Precision\n",
      "            20                1.34882    0.00017   0.00016\n",
      "            40                1.34870    0.00006   0.00011\n",
      "            80                1.34859   -0.00006   0.00008\n",
      "           160                1.34866    0.00001   0.00006\n",
      "           320                1.34863   -0.00002   0.00004\n"
     ]
    },
    {
     "data": {
      "text/plain": [
       "'\\nprint(\"\\n\\n--- Estimated Precision if num_runs were 5 * 10^6 ---\")\\ndf_scaled_precision = df_table1[[\"Nb. particles\", \"Precision\"]].copy() # Use original float precision\\n\\ntarget_num_runs = 5 * 10**6\\nscaling_factor = np.sqrt(num_runs / target_num_runs)\\n\\ndf_scaled_precision[\"Scaled Precision (for 5e6 runs)\"] = df_scaled_precision[\"Precision\"] * scaling_factor\\ndf_scaled_precision_print = df_scaled_precision[[\"Nb. particles\", \"Scaled Precision (for 5e6 runs)\"]].copy()\\ndf_scaled_precision_print[\"Scaled Precision (for 5e6 runs)\"] =     df_scaled_precision_print[\"Scaled Precision (for 5e6 runs)\"].map(\\'{:.5f}\\'.format)\\nprint(df_scaled_precision_print.to_string(index=False))\\n'"
      ]
     },
     "execution_count": 4,
     "metadata": {},
     "output_type": "execute_result"
    }
   ],
   "source": [
    "import numpy as np\n",
    "import pandas as pd\n",
    "import time\n",
    "from numba import njit\n",
    "from tqdm.notebook import tqdm, trange # For Jupyter notebooks\n",
    "\n",
    "# =======================================================\n",
    "# --- Functions ---\n",
    "# =======================================================\n",
    "@njit\n",
    "def run_particle_system(gamma, beta, v, x0, T, K, N):\n",
    "    h = T / K\n",
    "    sqrt_h = np.sqrt(h)\n",
    "    X = np.full(N, x0, dtype=np.float64)\n",
    "    for _ in range(K):\n",
    "        dW = sqrt_h * np.random.randn(N)\n",
    "        mean_X = np.mean(X)\n",
    "        X += (gamma * X + beta * mean_X) * h + v * dW\n",
    "    return np.mean(X)\n",
    "\n",
    "\n",
    "def get_mean_X_values(gamma, beta, v, x0, T, K, N, num_runs):\n",
    "    mean_X_values = np.zeros(num_runs)\n",
    "\n",
    "    for run in trange(num_runs, desc=\"Monte Carlo Runs\", leave=False, dynamic_ncols=True):\n",
    "        mean_X_values[run] = run_particle_system(gamma, beta, v, x0, T, K, N)\n",
    "\n",
    "    return mean_X_values\n",
    "\n",
    "\n",
    "def calculate_first_moment(gamma, beta, x0, T, K):\n",
    "    h = T / K\n",
    "    first_moment = (1 + (gamma + beta) * h)**K * x0\n",
    "    return first_moment\n",
    "\n",
    "\n",
    "def calculate_precision(empirical_mean, num_runs):\n",
    "    variance = np.var(empirical_mean, ddof=1) # ddof=1 for unbiased estimatior of variance\n",
    "    precision = 1.96 * np.sqrt(variance / num_runs)\n",
    "    return precision\n",
    "\n",
    "\n",
    "# =======================================================\n",
    "# --- Parameters ---\n",
    "# =======================================================\n",
    "gamma = -0.5\n",
    "beta = 0.8\n",
    "v_squared = 0.5\n",
    "v = np.sqrt(v_squared)\n",
    "x0 = 1\n",
    "T = 1\n",
    "K = 50\n",
    "num_runs = 5 * 10**6 # for quick testing, paper used 5 * 10**6\n",
    "N_values = [20, 40, 80, 160, 320]\n",
    "\n",
    "\n",
    "# =======================================================\n",
    "# --- Main Simulation Loop ---\n",
    "# =======================================================\n",
    "first_moment = calculate_first_moment(\n",
    "    gamma, beta, x0, T, K\n",
    ")\n",
    "print(f\"Closed-form discretized value for E[X_T^(1,N,h)]: {first_moment:.5f}\\n\")\n",
    "\n",
    "table_data = []\n",
    "\n",
    "for N in tqdm(N_values, desc=\"Loop over N\", leave=False, dynamic_ncols=True):\n",
    "    print(f\"\\nRunning for N = {N} particles...\")\n",
    "\n",
    "    # Get all terminal values from num_runs simulations\n",
    "    start_X_time = time.time()\n",
    "    mean_X_values = get_mean_X_values(\n",
    "        gamma, beta, v, x0, T, K, N, num_runs\n",
    "    )\n",
    "    end_X_time = time.time()\n",
    "    print(f\"Time taken to compute X values for N={N}: {end_X_time - start_X_time:.2f} seconds\")\n",
    "\n",
    "    estimated_first_moment = np.mean(mean_X_values)\n",
    "    difference = estimated_first_moment - first_moment\n",
    "    precision = calculate_precision(mean_X_values, num_runs)\n",
    "\n",
    "    table_data.append({\n",
    "        \"Nb. particles\": N,\n",
    "        \"Estimated first moment\": estimated_first_moment,\n",
    "        \"Difference\": difference,\n",
    "        \"Precision\": precision\n",
    "    })\n",
    "\n",
    "\n",
    "# =======================================================\n",
    "# --- Table Generation ---\n",
    "# =======================================================\n",
    "df_table1 = pd.DataFrame(table_data)\n",
    "\n",
    "print(f\"\\n\\nClosed-form discretized value (reference for 'Difference'): {first_moment:.5f}\\n\")\n",
    "desired_columns = [\"Nb. particles\", \"Estimated first moment\", \"Difference\", \"Precision\"]\n",
    "df_print = df_table1[desired_columns].copy()\n",
    "df_print[\"Estimated first moment\"] = df_print[\"Estimated first moment\"].map('{:.5f}'.format)\n",
    "df_print[\"Difference\"] = df_print[\"Difference\"].map('{:.5f}'.format) # Adjust format if very small values\n",
    "df_print[\"Precision\"] = df_print[\"Precision\"].map('{:.5f}'.format)\n",
    "print(df_print.to_string(index=False))"
   ]
  }
 ],
 "metadata": {
  "kernelspec": {
   "display_name": "Python 3",
   "language": "python",
   "name": "python3"
  },
  "language_info": {
   "codemirror_mode": {
    "name": "ipython",
    "version": 3
   },
   "file_extension": ".py",
   "mimetype": "text/x-python",
   "name": "python",
   "nbconvert_exporter": "python",
   "pygments_lexer": "ipython3",
   "version": "3.11.9"
  }
 },
 "nbformat": 4,
 "nbformat_minor": 5
}
