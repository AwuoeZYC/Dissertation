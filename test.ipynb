{
 "cells": [
  {
   "cell_type": "code",
   "execution_count": 1,
   "id": "378adf63",
   "metadata": {},
   "outputs": [
    {
     "name": "stdout",
     "output_type": "stream",
     "text": [
      "1.026\n",
      "3.608843415268567\n"
     ]
    }
   ],
   "source": [
    "print(1 + (1/2 + 4/5) * 1/50)\n",
    "print((1.026)**50)"
   ]
  },
  {
   "cell_type": "code",
   "execution_count": 2,
   "id": "f373b6e0",
   "metadata": {},
   "outputs": [
    {
     "name": "stdout",
     "output_type": "stream",
     "text": [
      "1.0060000102257765\n",
      "1.3486493145631329\n",
      "0.3\n"
     ]
    }
   ],
   "source": [
    "print(1.34865**(1/50))\n",
    "print(1.006**50)\n",
    "print(0.006*50)"
   ]
  }
 ],
 "metadata": {
  "kernelspec": {
   "display_name": "Python 3",
   "language": "python",
   "name": "python3"
  },
  "language_info": {
   "codemirror_mode": {
    "name": "ipython",
    "version": 3
   },
   "file_extension": ".py",
   "mimetype": "text/x-python",
   "name": "python",
   "nbconvert_exporter": "python",
   "pygments_lexer": "ipython3",
   "version": "3.11.9"
  }
 },
 "nbformat": 4,
 "nbformat_minor": 5
}
