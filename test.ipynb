{
 "cells": [
  {
   "cell_type": "code",
   "execution_count": 2,
   "id": "27cc98a3",
   "metadata": {},
   "outputs": [],
   "source": [
    "import numpy as np"
   ]
  },
  {
   "cell_type": "code",
   "execution_count": null,
   "id": "378adf63",
   "metadata": {},
   "outputs": [
    {
     "name": "stdout",
     "output_type": "stream",
     "text": [
      "1.026\n",
      "3.608843415268567\n"
     ]
    }
   ],
   "source": [
    "# The parameters the paper said\n",
    "print(1 + (1/2 + 4/5) * 1/50)\n",
    "print((1.026)**50)"
   ]
  },
  {
   "cell_type": "code",
   "execution_count": null,
   "id": "f373b6e0",
   "metadata": {},
   "outputs": [
    {
     "name": "stdout",
     "output_type": "stream",
     "text": [
      "1.0060000102257765\n",
      "1.3486493145631329\n",
      "0.3\n"
     ]
    }
   ],
   "source": [
    "# The parameters the paper actually used\n",
    "print(1.34865**(1/50))\n",
    "print(1.006**50)\n",
    "print(0.006*50) # gamma + beta"
   ]
  },
  {
   "cell_type": "code",
   "execution_count": null,
   "id": "d9034bf0",
   "metadata": {},
   "outputs": [
    {
     "name": "stdout",
     "output_type": "stream",
     "text": [
      "10.0\n"
     ]
    }
   ],
   "source": [
    "# precision scaling\n",
    "print(100**(1/2))"
   ]
  },
  {
   "cell_type": "code",
   "execution_count": 7,
   "id": "0134fabe",
   "metadata": {},
   "outputs": [
    {
     "name": "stdout",
     "output_type": "stream",
     "text": [
      "0.3183098861837907\n"
     ]
    },
    {
     "data": {
      "text/plain": [
       "0.9617375094946492"
      ]
     },
     "execution_count": 7,
     "metadata": {},
     "output_type": "execute_result"
    }
   ],
   "source": [
    "x = 0\n",
    "rho = (4-x**2)**(1/2) / (2 * np.pi)\n",
    "print(rho)\n",
    "\n",
    "np.random.normal(0, 1)"
   ]
  },
  {
   "cell_type": "code",
   "execution_count": 2,
   "id": "87f0e4f2",
   "metadata": {},
   "outputs": [],
   "source": [
    "import numpy as np\n",
    "import pandas as pd\n",
    "import time\n",
    "import matplotlib.pyplot as plt\n",
    "from matplotlib.ticker import StrMethodFormatter, FormatStrFormatter # For tick formatting\n",
    "\n",
    "# =======================================================\n",
    "# --- Functions ---\n",
    "# =======================================================\n",
    "def semicircle_pdf(x, radius=2):\n",
    "    if np.abs(x) <= radius:\n",
    "        return 2 * np.sqrt(radius**2 - x**2) / (radius**2 * np.pi)\n",
    "    else:\n",
    "        return 0\n",
    "\n",
    "def sample_initial_conditions_semicircle_metropolis_hastings(N, radius=2, steps=1000, burn_in=100, proposal_std=0.5):\n",
    "    X = np.zeros(N)\n",
    "    x_current = 0  # Start at the center or a random point within [-radius, radius]\n",
    "\n",
    "    # Burn-in phase\n",
    "    for _ in range(burn_in):\n",
    "        x_proposed = x_current + np.random.normal(0, proposal_std)\n",
    "        if np.abs(x_proposed) > radius :\n",
    "             pass # PDF will be 0, likely rejected if x_current is valid\n",
    "\n",
    "        acceptance_ratio = 0\n",
    "        pdf_current = semicircle_pdf(x_current, radius)\n",
    "        if pdf_current > 0: # Avoid division by zero if x_current somehow became invalid\n",
    "            pdf_proposed = semicircle_pdf(x_proposed, radius)\n",
    "            acceptance_ratio = pdf_proposed / pdf_current\n",
    "        \n",
    "        if np.random.rand() < acceptance_ratio:\n",
    "            x_current = x_proposed\n",
    "\n",
    "    # Sampling phase\n",
    "    for i in range(N):\n",
    "        for _ in range(steps): # Run M-H for a few steps to get less correlated samples\n",
    "            x_proposed = x_current + np.random.normal(0, proposal_std)\n",
    "\n",
    "            acceptance_ratio = 0\n",
    "            pdf_current = semicircle_pdf(x_current, radius)\n",
    "            if pdf_current > 0:\n",
    "                pdf_proposed = semicircle_pdf(x_proposed, radius)\n",
    "                acceptance_ratio = pdf_proposed / pdf_current\n",
    "\n",
    "            if np.random.rand() < acceptance_ratio:\n",
    "                x_current = x_proposed\n",
    "        X[i] = x_current\n",
    "        \n",
    "    # Check distribution\n",
    "    plt.hist(X, bins=50, density=True, label='Sampled Initial Conditions')\n",
    "    x_vals = np.linspace(-radius, radius, 200)\n",
    "    y_vals = [semicircle_pdf(x, radius) for x in x_vals]\n",
    "    plt.plot(x_vals, y_vals, label='True Semicircle PDF (scaled)')\n",
    "    plt.legend()\n",
    "    plt.title(\"Initial Condition Distribution Check\")\n",
    "    plt.show()\n",
    "        \n",
    "    return X\n",
    "\n",
    "def solve_fully_coupled_system_euler(X0, beta, T, K, verbose=False):\n",
    "    N = len(X0)\n",
    "    X_ref = np.copy(X0)\n",
    "    tau = T / K\n",
    "\n",
    "    for k_step in range(K):\n",
    "        X_new = np.zeros_like(X_ref) # Store updates for simultaneous update\n",
    "        \n",
    "        # Pre-calculate all interactions for efficiency if N is large,\n",
    "        for i in range(N):\n",
    "            interaction_force = 0\n",
    "            for j in range(N):\n",
    "                if i == j:\n",
    "                    continue\n",
    "                diff = X_ref[i] - X_ref[j]\n",
    "                interaction_force += diff / (1.0 + diff**2)\n",
    "\n",
    "            drift = -beta * X_ref[i] + (1.0 / (N - 1.0)) * interaction_force\n",
    "            X_new[i] = X_ref[i] + drift * tau\n",
    "        X_ref = X_new # Simultaneous update\n",
    "\n",
    "        if verbose and k_step % (K // 10) == 0 and K >=10 :\n",
    "             print(f\"    Ref Sol: Step {k_step}/{K}\")\n",
    "    return X_ref\n",
    "\n",
    "\n",
    "def solve_rbm1_euler(X0, beta, T, p, K, verbose=False):\n",
    "    N = len(X0)\n",
    "    X_rbm = np.copy(X0)\n",
    "    tau = T / K\n",
    "\n",
    "    for m in range(K):\n",
    "        indices = np.random.permutation(N)\n",
    "        \n",
    "        X = np.copy(X_rbm)\n",
    "\n",
    "        for i in range(0, N, p):\n",
    "            batch_indices = indices[i : i + p]\n",
    "            # Calculate drift for particles in this batch based on X_rbm (values at start of macro step)\n",
    "            batch_drifts = np.zeros(p)\n",
    "            X_batch = X_rbm[batch_indices]\n",
    "\n",
    "            for i_idx, i in enumerate(batch_indices):\n",
    "                current_drift = X_batch[i_idx]\n",
    "                interaction_force = 0\n",
    "                num_others = 0\n",
    "                for j_idx, j in enumerate(batch_indices):\n",
    "                    if i != j:\n",
    "                        other_drift = X_batch[j_idx]\n",
    "                        diff = current_drift - other_drift\n",
    "                        interaction_force += diff / (1 + diff**2)\n",
    "                        num_others += 1\n",
    "                \n",
    "                interaction_term = 0\n",
    "                # Divisor is (p-1), i.e. num_others\n",
    "                if num_others > 0:\n",
    "                    interaction_term = (1 / num_others) * interaction_force\n",
    "                \n",
    "                batch_drifts[i_idx] = -beta * current_drift + interaction_term\n",
    "\n",
    "            for i_idx, i in enumerate(batch_indices):\n",
    "                X[i] = X_batch[i_idx] + batch_drifts[i_idx] * tau\n",
    "        X_rbm = X\n",
    "\n",
    "        if verbose and m % (K // 10) == 0 and K >= 10:\n",
    "            print(f\"    RBM Sol: Macro Step {m}/{K}\")\n",
    "            \n",
    "    return X_rbm\n",
    "\n",
    "def calculate_rbm_error(X_rbm, X_ref):\n",
    "    if len(X_rbm) != len(X_ref):\n",
    "        raise ValueError(\"RBM and Reference solutions must have the same number of particles.\")\n",
    "    if len(X_rbm) == 0:\n",
    "        return 0\n",
    "    error_sq_sum = np.sum((X_rbm - X_ref)**2)\n",
    "    return np.sqrt(error_sq_sum / len(X_rbm))"
   ]
  },
  {
   "cell_type": "code",
   "execution_count": 3,
   "id": "c0895b34",
   "metadata": {},
   "outputs": [
    {
     "name": "stdout",
     "output_type": "stream",
     "text": [
      "✅ Variables restored into current workspace\n"
     ]
    }
   ],
   "source": [
    "import pickle\n",
    "\n",
    "with open(\"my_session.pkl\", \"rb\") as f:\n",
    "    restored = pickle.load(f)\n",
    "\n",
    "globals().update(restored)\n",
    "\n",
    "print(\"✅ Variables restored into current workspace\")\n"
   ]
  }
 ],
 "metadata": {
  "kernelspec": {
   "display_name": "Python 3",
   "language": "python",
   "name": "python3"
  },
  "language_info": {
   "codemirror_mode": {
    "name": "ipython",
    "version": 3
   },
   "file_extension": ".py",
   "mimetype": "text/x-python",
   "name": "python",
   "nbconvert_exporter": "python",
   "pygments_lexer": "ipython3",
   "version": "3.11.9"
  }
 },
 "nbformat": 4,
 "nbformat_minor": 5
}
