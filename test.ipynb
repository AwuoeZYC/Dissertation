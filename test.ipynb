{
 "cells": [
  {
   "cell_type": "code",
   "execution_count": 2,
   "id": "27cc98a3",
   "metadata": {},
   "outputs": [],
   "source": [
    "import numpy as np"
   ]
  },
  {
   "cell_type": "code",
   "execution_count": null,
   "id": "378adf63",
   "metadata": {},
   "outputs": [
    {
     "name": "stdout",
     "output_type": "stream",
     "text": [
      "1.026\n",
      "3.608843415268567\n"
     ]
    }
   ],
   "source": [
    "# The parameters the paper said\n",
    "print(1 + (1/2 + 4/5) * 1/50)\n",
    "print((1.026)**50)"
   ]
  },
  {
   "cell_type": "code",
   "execution_count": null,
   "id": "f373b6e0",
   "metadata": {},
   "outputs": [
    {
     "name": "stdout",
     "output_type": "stream",
     "text": [
      "1.0060000102257765\n",
      "1.3486493145631329\n",
      "0.3\n"
     ]
    }
   ],
   "source": [
    "# The parameters the paper actually used\n",
    "print(1.34865**(1/50))\n",
    "print(1.006**50)\n",
    "print(0.006*50) # gamma + beta"
   ]
  },
  {
   "cell_type": "code",
   "execution_count": null,
   "id": "d9034bf0",
   "metadata": {},
   "outputs": [
    {
     "name": "stdout",
     "output_type": "stream",
     "text": [
      "10.0\n"
     ]
    }
   ],
   "source": [
    "# precision scaling\n",
    "print(100**(1/2))"
   ]
  },
  {
   "cell_type": "code",
   "execution_count": 7,
   "id": "0134fabe",
   "metadata": {},
   "outputs": [
    {
     "name": "stdout",
     "output_type": "stream",
     "text": [
      "0.3183098861837907\n"
     ]
    },
    {
     "data": {
      "text/plain": [
       "0.9617375094946492"
      ]
     },
     "execution_count": 7,
     "metadata": {},
     "output_type": "execute_result"
    }
   ],
   "source": [
    "x = 0\n",
    "rho = (4-x**2)**(1/2) / (2 * np.pi)\n",
    "print(rho)\n",
    "\n",
    "np.random.normal(0, 1)"
   ]
  }
 ],
 "metadata": {
  "kernelspec": {
   "display_name": "Python 3",
   "language": "python",
   "name": "python3"
  },
  "language_info": {
   "codemirror_mode": {
    "name": "ipython",
    "version": 3
   },
   "file_extension": ".py",
   "mimetype": "text/x-python",
   "name": "python",
   "nbconvert_exporter": "python",
   "pygments_lexer": "ipython3",
   "version": "3.11.9"
  }
 },
 "nbformat": 4,
 "nbformat_minor": 5
}
