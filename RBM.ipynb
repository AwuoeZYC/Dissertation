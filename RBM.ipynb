{
 "cells": [
  {
   "cell_type": "code",
   "execution_count": null,
   "id": "0bfd2ab3",
   "metadata": {},
   "outputs": [
    {
     "data": {
      "text/plain": [
       "'\\ndef calculate_forces_on_particles(X_positions, N_divisor, interaction_power=2):\\n    \"\"\"\\n    Calculates the force F_n^i for all particles.\\n    F_n^i = (1/N_divisor) * sum_{j!=i} (X_n^i - X_n^j) / (1 + |X_n^i - X_n^j|^interaction_power)\\n    N_divisor is (N-1) for full system, (p-1) for RBM batch.\\n    \"\"\"\\n    N = len(X_positions)\\n    forces = np.zeros(N)\\n    if N <= 1:\\n        return forces # No interaction force if N=0 or N=1\\n\\n    for i in range(N):\\n        sum_interaction_kernel = 0.0\\n        for j in range(N):\\n            if i == j:\\n                continue\\n            diff = X_positions[i] - X_positions[j]\\n            # Denominator includes absolute value for robustness if diff can be complex,\\n            # but for 1D real numbers, diff**interaction_power is fine if power is even.\\n            # Using abs(diff)**interaction_power is safer for general k.\\n            # RBM paper uses |X_i - X_j|^3 in text for Eq 4.3, this is critical.\\n            # Let\\'s make it a parameter.\\n            denominator = 1.0 + np.abs(diff)**interaction_power\\n            if denominator < 1e-9: # Avoid division by very small numbers, though 1+... should be fine\\n                sum_interaction_kernel += 0 # Or some large bounded force\\n            else:\\n                sum_interaction_kernel += diff / denominator\\n        \\n        if N_divisor > 0 : # N-1 or p-1\\n             forces[i] = sum_interaction_kernel / N_divisor\\n        # if N_divisor is 0 (e.g. p=1), force remains 0, handled by caller\\n            \\n    return forces\\n\\ndef solve_fully_coupled_verlet(X0_pos, V0_vel, T_final, K_steps, interaction_power_kernel=2, verbose=False):\\n    \"\"\"\\n    Solves the second-order fully coupled system using Verlet integration.\\n    X_1 = X_0 + V_0*tau + 0.5*F_0*tau^2\\n    X_{n+1} = 2*X_n - X_{n-1} + F_n*tau^2\\n    \"\"\"\\n    N = len(X0_pos)\\n    X_current = np.copy(X0_pos)\\n    V_current = np.copy(V0_vel) # Needed for the first step under this Verlet variant\\n    \\n    if K_steps == 0: return X_current\\n    tau = T_final / K_steps\\n\\n    if N == 0: return X_current\\n\\n    # First step requires V0\\n    # Calculate F0 (forces at time t=0 based on X0_pos)\\n    # Divisor for full system is N-1\\n    N_divisor_full = N - 1 if N > 1 else 1 # Avoid division by zero if N=1 (force is 0 anyway)\\n\\n    F_current = calculate_forces_on_particles(X_current, N_divisor_full, interaction_power_kernel)\\n    X_previous = np.copy(X_current) # Store X0 as X_{n-1} for the first X_new calculation\\n    X_current = X_current + V_current * tau + 0.5 * F_current * tau**2 # This is X_1\\n\\n    # Subsequent steps\\n    for k_step in range(1, K_steps): # k_step from 1 to K_steps-1 (total K_steps updates)\\n        F_current = calculate_forces_on_particles(X_current, N_divisor_full, interaction_power_kernel)\\n        X_new = 2 * X_current - X_previous + F_current * tau**2\\n        X_previous = np.copy(X_current)\\n        X_current = X_new\\n        \\n        if verbose and k_step % max(1, (K_steps // 10)) == 0:\\n            print(f\"    Ref Verlet: Step {k_step}/{K_steps-1}\")\\n            \\n    return X_current # Final positions\\n\\ndef solve_rbm1_verlet(X0_pos, V0_vel, T_final, p_batch_size, K_rbm_macro_steps, interaction_power_kernel=2, verbose=False):\\n    \"\"\"\\n    Solves the second-order system using RBM-1 with Verlet integration.\\n    Each RBM macro step is one Verlet update of duration tau_rbm.\\n    \"\"\"\\n    N = len(X0_pos)\\n    X_current_rbm = np.copy(X0_pos)\\n    V_current_rbm = np.copy(V0_vel) # Needed for the first RBM step\\n\\n    if K_rbm_macro_steps == 0: return X_current_rbm\\n    tau_rbm = T_final / K_rbm_macro_steps\\n    \\n    if N == 0: return X_current_rbm\\n    if p_batch_size <= 1 and N > 1: # p=1 means no interaction within RBM step\\n        # Fallback to non-interacting Verlet if p=1\\n        X_previous_rbm_p1 = np.copy(X_current_rbm)\\n        X_current_rbm = X_current_rbm + V_current_rbm * tau_rbm # F=0 for first step\\n        for _ in range(1, K_rbm_macro_steps):\\n            X_new_p1 = 2 * X_current_rbm - X_previous_rbm_p1 # F=0\\n            X_previous_rbm_p1 = np.copy(X_current_rbm)\\n            X_current_rbm = X_new_p1\\n        return X_current_rbm\\n\\n\\n    # Calculate F0_rbm (forces at t=0 based on X0_pos using RBM batching)\\n    # This is subtle: F0 for the first step X_1 = X_0 + V_0*tau + 0.5*F_0*tau^2\\n    # should ideally use the RBM force.\\n    \\n    # RBM force calculation for a given X_state\\n    def get_rbm_forces(X_state_for_force_calc):\\n        forces_rbm = np.zeros(N)\\n        shuffled_indices = np.random.permutation(N)\\n        # Divisor for RBM batch is p_batch_size - 1\\n        N_divisor_rbm = p_batch_size - 1 if p_batch_size > 1 else 1\\n\\n        for i_batch_start in range(0, N, p_batch_size):\\n            batch_orig_indices = shuffled_indices[i_batch_start : i_batch_start + p_batch_size]\\n            actual_p_in_batch = len(batch_orig_indices)\\n            if actual_p_in_batch <= 1: # Single particle in batch or empty\\n                for idx in batch_orig_indices: forces_rbm[idx] = 0.0 # No interaction force\\n                continue\\n\\n            X_batch_vals = X_state_for_force_calc[batch_orig_indices]\\n            \\n            # Calculate forces for particles in this batch\\n            batch_member_forces = np.zeros(actual_p_in_batch)\\n            for i_in_batch, particle_orig_idx in enumerate(batch_orig_indices):\\n                sum_kernel_batch = 0.0\\n                for j_in_batch, other_particle_orig_idx in enumerate(batch_orig_indices):\\n                    if i_in_batch == j_in_batch:\\n                        continue\\n                    diff = X_batch_vals[i_in_batch] - X_batch_vals[j_in_batch]\\n                    denominator = 1.0 + np.abs(diff)**interaction_power_kernel\\n                    if denominator > 1e-9 : sum_kernel_batch += diff / denominator\\n                batch_member_forces[i_in_batch] = sum_kernel_batch / N_divisor_rbm\\n            \\n            # Assign calculated forces back to original particle indices\\n            for i_in_batch, particle_orig_idx in enumerate(batch_orig_indices):\\n                forces_rbm[particle_orig_idx] = batch_member_forces[i_in_batch]\\n        return forces_rbm\\n\\n    F_current_rbm = get_rbm_forces(X_current_rbm)\\n    X_previous_rbm = np.copy(X_current_rbm)\\n    X_current_rbm = X_current_rbm + V_current_rbm * tau_rbm + 0.5 * F_current_rbm * tau_rbm**2\\n\\n    # Subsequent RBM steps\\n    for m_step in range(1, K_rbm_macro_steps):\\n        F_current_rbm = get_rbm_forces(X_current_rbm) # Forces based on X at start of this macro step\\n        X_new_rbm = 2 * X_current_rbm - X_previous_rbm + F_current_rbm * tau_rbm**2\\n        X_previous_rbm = np.copy(X_current_rbm)\\n        X_current_rbm = X_new_rbm\\n        \\n        if verbose and m_step % max(1, (K_rbm_macro_steps // 10)) == 0:\\n            print(f\"    RBM Verlet: Macro Step {m_step}/{K_rbm_macro_steps-1}\")\\n            \\n    return X_current_rbm\\n'"
      ]
     },
     "execution_count": 10,
     "metadata": {},
     "output_type": "execute_result"
    }
   ],
   "source": [
    "import numpy as np\n",
    "import pandas as pd\n",
    "import time\n",
    "import matplotlib.pyplot as plt\n",
    "from matplotlib.ticker import StrMethodFormatter, FormatStrFormatter # For tick formatting\n",
    "import pickle\n",
    "from numba import njit\n",
    "from tqdm import tqdm, trange\n",
    "from tqdm.notebook import tqdm, trange # For Jupyter notebooks\n",
    "\n",
    "# =======================================================\n",
    "# --- Functions ---\n",
    "# =======================================================\n",
    "def semicircle_pdf(x, radius=2):\n",
    "    if np.abs(x) <= radius:\n",
    "        return 2 * np.sqrt(radius**2 - x**2) / (radius**2 * np.pi)\n",
    "    else:\n",
    "        return 0\n",
    "\n",
    "\n",
    "def sample_initial_conditions_semicircle_metropolis_hastings(N, radius=2, steps=1000, burn_in=100, proposal_std=0.5):\n",
    "    X = np.zeros(N)\n",
    "    x_current = 0  # Start at the center or a random point within [-radius, radius]\n",
    "\n",
    "    # Burn-in phase\n",
    "    for _ in range(burn_in):\n",
    "        x_proposed = x_current + np.random.normal(0, proposal_std)\n",
    "        if np.abs(x_proposed) > radius :\n",
    "             pass # PDF will be 0, likely rejected if x_current is valid\n",
    "\n",
    "        acceptance_ratio = 0\n",
    "        pdf_current = semicircle_pdf(x_current, radius)\n",
    "        if pdf_current > 0: # Avoid division by zero if x_current somehow became invalid\n",
    "            pdf_proposed = semicircle_pdf(x_proposed, radius)\n",
    "            acceptance_ratio = pdf_proposed / pdf_current\n",
    "        \n",
    "        if np.random.rand() < acceptance_ratio:\n",
    "            x_current = x_proposed\n",
    "\n",
    "    # Sampling phase\n",
    "    for i in range(N):\n",
    "        for _ in range(steps): # Run M-H for a few steps to get less correlated samples\n",
    "            x_proposed = x_current + np.random.normal(0, proposal_std)\n",
    "\n",
    "            acceptance_ratio = 0\n",
    "            pdf_current = semicircle_pdf(x_current, radius)\n",
    "            if pdf_current > 0:\n",
    "                pdf_proposed = semicircle_pdf(x_proposed, radius)\n",
    "                acceptance_ratio = pdf_proposed / pdf_current\n",
    "\n",
    "            if np.random.rand() < acceptance_ratio:\n",
    "                x_current = x_proposed\n",
    "        X[i] = x_current\n",
    "        \n",
    "    # Check distribution\n",
    "    '''\n",
    "    plt.hist(X, bins=50, density=True, label='Sampled Initial Conditions')\n",
    "    x_vals = np.linspace(-radius, radius, 200)\n",
    "    y_vals = [semicircle_pdf(x, radius) for x in x_vals]\n",
    "    plt.plot(x_vals, y_vals, label='True Semicircle PDF (scaled)')\n",
    "    plt.legend()\n",
    "    plt.title(\"Initial Condition Distribution Check\")\n",
    "    plt.show()\n",
    "    '''\n",
    "    return X\n",
    "\n",
    "\n",
    "@njit\n",
    "def reference_step(X_ref, beta, tau):\n",
    "    N = len(X_ref)\n",
    "    X_new = np.zeros_like(X_ref)\n",
    "    for i in range(N):\n",
    "        interaction = 0\n",
    "        for j in range(N):\n",
    "            if i != j:\n",
    "                diff = X_ref[i] - X_ref[j]\n",
    "                interaction += diff / (1 + diff**2)\n",
    "        drift = -beta * X_ref[i] + interaction / (N - 1)\n",
    "        X_new[i] = X_ref[i] + tau * drift\n",
    "    return X_new\n",
    "\n",
    "\n",
    "def get_reference_X(X0, beta, T, K):\n",
    "    tau = T / K\n",
    "    X_ref = X0.copy()\n",
    "    for k_step in trange(K, desc=\"Reference k_step\", leave=False, dynamic_ncols=True): # Progress bar for reference steps\n",
    "        X_ref = reference_step(X_ref, beta, tau)\n",
    "    return X_ref\n",
    "\n",
    "\n",
    "def get_rbm1_X(X0, beta, T, p, K):\n",
    "    N = len(X0)\n",
    "    X_rbm = np.copy(X0)\n",
    "    tau = T / K\n",
    "\n",
    "    for m in range(K):\n",
    "        indices = np.random.permutation(N)\n",
    "        \n",
    "        X = np.copy(X_rbm)\n",
    "\n",
    "        for i in range(0, N, p):\n",
    "            batch_indices = indices[i : i + p]\n",
    "            # Calculate drift for particles in this batch based on X_rbm (values at start of macro step)\n",
    "            batch_drifts = np.zeros(p)\n",
    "            X_batch = X_rbm[batch_indices]\n",
    "\n",
    "            for i_idx, i in enumerate(batch_indices):\n",
    "                current_drift = X_batch[i_idx]\n",
    "                interaction_force = 0\n",
    "                num_others = 0\n",
    "                for j_idx, j in enumerate(batch_indices):\n",
    "                    if i != j:\n",
    "                        other_drift = X_batch[j_idx]\n",
    "                        diff = current_drift - other_drift\n",
    "                        interaction_force += diff / (1 + diff**2)\n",
    "                        num_others += 1\n",
    "                \n",
    "                interaction_term = 0\n",
    "                # Divisor is (p-1), i.e. num_others\n",
    "                if num_others > 0:\n",
    "                    interaction_term = (1 / num_others) * interaction_force\n",
    "                \n",
    "                batch_drifts[i_idx] = -beta * current_drift + interaction_term\n",
    "\n",
    "            for i_idx, i in enumerate(batch_indices):\n",
    "                X[i] = X_batch[i_idx] + batch_drifts[i_idx] * tau\n",
    "        X_rbm = X\n",
    "            \n",
    "    return X_rbm\n",
    "\n",
    "\n",
    "def calculate_rbm_error(X_rbm, X_ref):\n",
    "    if len(X_rbm) != len(X_ref):\n",
    "        raise ValueError(\"RBM and Reference solutions must have the same number of particles.\")\n",
    "    if len(X_rbm) == 0:\n",
    "        return 0\n",
    "    error_sq_sum = np.sum((X_rbm - X_ref)**2)\n",
    "    return np.sqrt(error_sq_sum / len(X_rbm))\n",
    "\n",
    "\n",
    "def calculate_forces_on_particles(X_positions, N_divisor, interaction_power=2):\n",
    "    \"\"\"\n",
    "    Calculates the force F_n^i for all particles.\n",
    "    F_n^i = (1/N_divisor) * sum_{j!=i} (X_n^i - X_n^j) / (1 + |X_n^i - X_n^j|^interaction_power)\n",
    "    N_divisor is (N-1) for full system, (p-1) for RBM batch.\n",
    "    \"\"\"\n",
    "    N = len(X_positions)\n",
    "    forces = np.zeros(N)\n",
    "    if N <= 1:\n",
    "        return forces # No interaction force if N=0 or N=1\n",
    "\n",
    "    for i in range(N):\n",
    "        sum_interaction_kernel = 0.0\n",
    "        for j in range(N):\n",
    "            if i == j:\n",
    "                continue\n",
    "            diff = X_positions[i] - X_positions[j]\n",
    "            # Denominator includes absolute value for robustness if diff can be complex,\n",
    "            # but for 1D real numbers, diff**interaction_power is fine if power is even.\n",
    "            # Using abs(diff)**interaction_power is safer for general k.\n",
    "            # RBM paper uses |X_i - X_j|^3 in text for Eq 4.3, this is critical.\n",
    "            # Let's make it a parameter.\n",
    "            denominator = 1.0 + np.abs(diff)**interaction_power\n",
    "            if denominator < 1e-9: # Avoid division by very small numbers, though 1+... should be fine\n",
    "                sum_interaction_kernel += 0 # Or some large bounded force\n",
    "            else:\n",
    "                sum_interaction_kernel += diff / denominator\n",
    "        \n",
    "        if N_divisor > 0 : # N-1 or p-1\n",
    "             forces[i] = sum_interaction_kernel / N_divisor\n",
    "        # if N_divisor is 0 (e.g. p=1), force remains 0, handled by caller\n",
    "            \n",
    "    return forces\n",
    "\n",
    "def solve_fully_coupled_verlet(X0_pos, V0_vel, T_final, K_steps, interaction_power_kernel=2, verbose=False):\n",
    "    \"\"\"\n",
    "    Solves the second-order fully coupled system using Verlet integration.\n",
    "    X_1 = X_0 + V_0*tau + 0.5*F_0*tau^2\n",
    "    X_{n+1} = 2*X_n - X_{n-1} + F_n*tau^2\n",
    "    \"\"\"\n",
    "    N = len(X0_pos)\n",
    "    X_current = np.copy(X0_pos)\n",
    "    V_current = np.copy(V0_vel) # Needed for the first step under this Verlet variant\n",
    "    \n",
    "    if K_steps == 0: return X_current\n",
    "    tau = T_final / K_steps\n",
    "\n",
    "    if N == 0: return X_current\n",
    "\n",
    "    # First step requires V0\n",
    "    # Calculate F0 (forces at time t=0 based on X0_pos)\n",
    "    # Divisor for full system is N-1\n",
    "    N_divisor_full = N - 1 if N > 1 else 1 # Avoid division by zero if N=1 (force is 0 anyway)\n",
    "\n",
    "    F_current = calculate_forces_on_particles(X_current, N_divisor_full, interaction_power_kernel)\n",
    "    X_previous = np.copy(X_current) # Store X0 as X_{n-1} for the first X_new calculation\n",
    "    X_current = X_current + V_current * tau + 0.5 * F_current * tau**2 # This is X_1\n",
    "\n",
    "    # Subsequent steps\n",
    "    for k_step in range(1, K_steps): # k_step from 1 to K_steps-1 (total K_steps updates)\n",
    "        F_current = calculate_forces_on_particles(X_current, N_divisor_full, interaction_power_kernel)\n",
    "        X_new = 2 * X_current - X_previous + F_current * tau**2\n",
    "        X_previous = np.copy(X_current)\n",
    "        X_current = X_new\n",
    "        \n",
    "        if verbose and k_step % max(1, (K_steps // 10)) == 0:\n",
    "            print(f\"    Ref Verlet: Step {k_step}/{K_steps-1}\")\n",
    "            \n",
    "    return X_current # Final positions\n",
    "\n",
    "def solve_rbm1_verlet(X0_pos, V0_vel, T_final, p_batch_size, K_rbm_macro_steps, interaction_power_kernel=2, verbose=False):\n",
    "    \"\"\"\n",
    "    Solves the second-order system using RBM-1 with Verlet integration.\n",
    "    Each RBM macro step is one Verlet update of duration tau_rbm.\n",
    "    \"\"\"\n",
    "    N = len(X0_pos)\n",
    "    X_current_rbm = np.copy(X0_pos)\n",
    "    V_current_rbm = np.copy(V0_vel) # Needed for the first RBM step\n",
    "\n",
    "    if K_rbm_macro_steps == 0: return X_current_rbm\n",
    "    tau_rbm = T_final / K_rbm_macro_steps\n",
    "    \n",
    "    if N == 0: return X_current_rbm\n",
    "    if p_batch_size <= 1 and N > 1: # p=1 means no interaction within RBM step\n",
    "        # Fallback to non-interacting Verlet if p=1\n",
    "        X_previous_rbm_p1 = np.copy(X_current_rbm)\n",
    "        X_current_rbm = X_current_rbm + V_current_rbm * tau_rbm # F=0 for first step\n",
    "        for _ in range(1, K_rbm_macro_steps):\n",
    "            X_new_p1 = 2 * X_current_rbm - X_previous_rbm_p1 # F=0\n",
    "            X_previous_rbm_p1 = np.copy(X_current_rbm)\n",
    "            X_current_rbm = X_new_p1\n",
    "        return X_current_rbm\n",
    "\n",
    "\n",
    "    # Calculate F0_rbm (forces at t=0 based on X0_pos using RBM batching)\n",
    "    # This is subtle: F0 for the first step X_1 = X_0 + V_0*tau + 0.5*F_0*tau^2\n",
    "    # should ideally use the RBM force.\n",
    "    \n",
    "    # RBM force calculation for a given X_state\n",
    "    def get_rbm_forces(X_state_for_force_calc):\n",
    "        forces_rbm = np.zeros(N)\n",
    "        shuffled_indices = np.random.permutation(N)\n",
    "        # Divisor for RBM batch is p_batch_size - 1\n",
    "        N_divisor_rbm = p_batch_size - 1 if p_batch_size > 1 else 1\n",
    "\n",
    "        for i_batch_start in range(0, N, p_batch_size):\n",
    "            batch_orig_indices = shuffled_indices[i_batch_start : i_batch_start + p_batch_size]\n",
    "            actual_p_in_batch = len(batch_orig_indices)\n",
    "            if actual_p_in_batch <= 1: # Single particle in batch or empty\n",
    "                for idx in batch_orig_indices: forces_rbm[idx] = 0.0 # No interaction force\n",
    "                continue\n",
    "\n",
    "            X_batch_vals = X_state_for_force_calc[batch_orig_indices]\n",
    "            \n",
    "            # Calculate forces for particles in this batch\n",
    "            batch_member_forces = np.zeros(actual_p_in_batch)\n",
    "            for i_in_batch, particle_orig_idx in enumerate(batch_orig_indices):\n",
    "                sum_kernel_batch = 0.0\n",
    "                for j_in_batch, other_particle_orig_idx in enumerate(batch_orig_indices):\n",
    "                    if i_in_batch == j_in_batch:\n",
    "                        continue\n",
    "                    diff = X_batch_vals[i_in_batch] - X_batch_vals[j_in_batch]\n",
    "                    denominator = 1.0 + np.abs(diff)**interaction_power_kernel\n",
    "                    if denominator > 1e-9 : sum_kernel_batch += diff / denominator\n",
    "                batch_member_forces[i_in_batch] = sum_kernel_batch / N_divisor_rbm\n",
    "            \n",
    "            # Assign calculated forces back to original particle indices\n",
    "            for i_in_batch, particle_orig_idx in enumerate(batch_orig_indices):\n",
    "                forces_rbm[particle_orig_idx] = batch_member_forces[i_in_batch]\n",
    "        return forces_rbm\n",
    "\n",
    "    F_current_rbm = get_rbm_forces(X_current_rbm)\n",
    "    X_previous_rbm = np.copy(X_current_rbm)\n",
    "    X_current_rbm = X_current_rbm + V_current_rbm * tau_rbm + 0.5 * F_current_rbm * tau_rbm**2\n",
    "\n",
    "    # Subsequent RBM steps\n",
    "    for m_step in range(1, K_rbm_macro_steps):\n",
    "        F_current_rbm = get_rbm_forces(X_current_rbm) # Forces based on X at start of this macro step\n",
    "        X_new_rbm = 2 * X_current_rbm - X_previous_rbm + F_current_rbm * tau_rbm**2\n",
    "        X_previous_rbm = np.copy(X_current_rbm)\n",
    "        X_current_rbm = X_new_rbm\n",
    "        \n",
    "        if verbose and m_step % max(1, (K_rbm_macro_steps // 10)) == 0:\n",
    "            print(f\"    RBM Verlet: Macro Step {m_step}/{K_rbm_macro_steps-1}\")\n",
    "            \n",
    "    return X_current_rbm\n"
   ]
  },
  {
   "cell_type": "code",
   "execution_count": null,
   "id": "e3f8b34f",
   "metadata": {},
   "outputs": [],
   "source": [
    "# =======================================================\n",
    "# --- Restoring Variables ---\n",
    "# =======================================================\n",
    "with open(\"RBM_variables.pkl\", \"rb\") as f:\n",
    "    restored = pickle.load(f)\n",
    "\n",
    "globals().update(restored)\n",
    "\n",
    "print(\"Variables restored\")"
   ]
  },
  {
   "cell_type": "markdown",
   "id": "56badc20",
   "metadata": {},
   "source": [
    "# Figure 2"
   ]
  },
  {
   "cell_type": "code",
   "execution_count": null,
   "id": "4c766b62",
   "metadata": {},
   "outputs": [
    {
     "data": {
      "application/vnd.jupyter.widget-view+json": {
       "model_id": "0242a856a8534bf89423a79188b20e69",
       "version_major": 2,
       "version_minor": 0
      },
      "text/plain": [
       "Loop over N:   0%|          | 0/3 [00:00<?, ?it/s]"
      ]
     },
     "metadata": {},
     "output_type": "display_data"
    },
    {
     "name": "stdout",
     "output_type": "stream",
     "text": [
      "  Initial conditions sampled. N=50, Time: 0.32s\n"
     ]
    },
    {
     "data": {
      "application/vnd.jupyter.widget-view+json": {
       "model_id": "68443eb38f9c4a33a07c64bd3cd897ad",
       "version_major": 2,
       "version_minor": 0
      },
      "text/plain": [
       "  beta-loop (N=50):   0%|          | 0/2 [00:00<?, ?it/s]"
      ]
     },
     "metadata": {},
     "output_type": "display_data"
    },
    {
     "data": {
      "application/vnd.jupyter.widget-view+json": {
       "model_id": "7e57e5e40370448fb0ad6d633dd0ca15",
       "version_major": 2,
       "version_minor": 0
      },
      "text/plain": [
       "Reference k_step:   0%|          | 0/32768 [00:00<?, ?it/s]"
      ]
     },
     "metadata": {},
     "output_type": "display_data"
    },
    {
     "name": "stdout",
     "output_type": "stream",
     "text": [
      "    Reference solution calculated. N=50, Time: 0.32s\n"
     ]
    },
    {
     "data": {
      "application/vnd.jupyter.widget-view+json": {
       "model_id": "3919e48807c34cc1b9b86f781e31c2cd",
       "version_major": 2,
       "version_minor": 0
      },
      "text/plain": [
       "    tau-loop (N=50, β=0):   0%|          | 0/4 [00:00<?, ?it/s]"
      ]
     },
     "metadata": {},
     "output_type": "display_data"
    },
    {
     "data": {
      "application/vnd.jupyter.widget-view+json": {
       "model_id": "9a39b321c6cb4cfa92d4d03021af6660",
       "version_major": 2,
       "version_minor": 0
      },
      "text/plain": [
       "Reference k_step:   0%|          | 0/32768 [00:00<?, ?it/s]"
      ]
     },
     "metadata": {},
     "output_type": "display_data"
    },
    {
     "name": "stdout",
     "output_type": "stream",
     "text": [
      "    Reference solution calculated. N=50, Time: 0.17s\n"
     ]
    },
    {
     "data": {
      "application/vnd.jupyter.widget-view+json": {
       "model_id": "6d803a9b2b70478db454d7817b48343a",
       "version_major": 2,
       "version_minor": 0
      },
      "text/plain": [
       "    tau-loop (N=50, β=1):   0%|          | 0/4 [00:00<?, ?it/s]"
      ]
     },
     "metadata": {},
     "output_type": "display_data"
    },
    {
     "name": "stdout",
     "output_type": "stream",
     "text": [
      "  Initial conditions sampled. N=500, Time: 2.93s\n"
     ]
    },
    {
     "data": {
      "application/vnd.jupyter.widget-view+json": {
       "model_id": "e8cdea3a34904d9bb1dd88ae2485382b",
       "version_major": 2,
       "version_minor": 0
      },
      "text/plain": [
       "  beta-loop (N=500):   0%|          | 0/2 [00:00<?, ?it/s]"
      ]
     },
     "metadata": {},
     "output_type": "display_data"
    },
    {
     "data": {
      "application/vnd.jupyter.widget-view+json": {
       "model_id": "7ccd72bad6674b798e2f2fd251c6f6be",
       "version_major": 2,
       "version_minor": 0
      },
      "text/plain": [
       "Reference k_step:   0%|          | 0/32768 [00:00<?, ?it/s]"
      ]
     },
     "metadata": {},
     "output_type": "display_data"
    },
    {
     "name": "stdout",
     "output_type": "stream",
     "text": [
      "    Reference solution calculated. N=500, Time: 8.54s\n"
     ]
    },
    {
     "data": {
      "application/vnd.jupyter.widget-view+json": {
       "model_id": "185f46d2660c4e1d9dd678b391a4e51b",
       "version_major": 2,
       "version_minor": 0
      },
      "text/plain": [
       "    tau-loop (N=500, β=0):   0%|          | 0/4 [00:00<?, ?it/s]"
      ]
     },
     "metadata": {},
     "output_type": "display_data"
    },
    {
     "data": {
      "application/vnd.jupyter.widget-view+json": {
       "model_id": "aafc1a0783aa4858aa3d99016df2c274",
       "version_major": 2,
       "version_minor": 0
      },
      "text/plain": [
       "Reference k_step:   0%|          | 0/32768 [00:00<?, ?it/s]"
      ]
     },
     "metadata": {},
     "output_type": "display_data"
    },
    {
     "name": "stdout",
     "output_type": "stream",
     "text": [
      "    Reference solution calculated. N=500, Time: 8.70s\n"
     ]
    },
    {
     "data": {
      "application/vnd.jupyter.widget-view+json": {
       "model_id": "bb8709d346f244e194d61a47a727ebab",
       "version_major": 2,
       "version_minor": 0
      },
      "text/plain": [
       "    tau-loop (N=500, β=1):   0%|          | 0/4 [00:00<?, ?it/s]"
      ]
     },
     "metadata": {},
     "output_type": "display_data"
    },
    {
     "name": "stdout",
     "output_type": "stream",
     "text": [
      "  Initial conditions sampled. N=2000, Time: 11.94s\n"
     ]
    },
    {
     "data": {
      "application/vnd.jupyter.widget-view+json": {
       "model_id": "cc853909318f45eea0c9d9b6284f97f3",
       "version_major": 2,
       "version_minor": 0
      },
      "text/plain": [
       "  beta-loop (N=2000):   0%|          | 0/2 [00:00<?, ?it/s]"
      ]
     },
     "metadata": {},
     "output_type": "display_data"
    },
    {
     "data": {
      "application/vnd.jupyter.widget-view+json": {
       "model_id": "89ffb485fcbc40aba704b81cf3dde214",
       "version_major": 2,
       "version_minor": 0
      },
      "text/plain": [
       "Reference k_step:   0%|          | 0/32768 [00:00<?, ?it/s]"
      ]
     },
     "metadata": {},
     "output_type": "display_data"
    },
    {
     "name": "stdout",
     "output_type": "stream",
     "text": [
      "    Reference solution calculated. N=2000, Time: 133.12s\n"
     ]
    },
    {
     "data": {
      "application/vnd.jupyter.widget-view+json": {
       "model_id": "b6d8381dfd454463b98732b062134e63",
       "version_major": 2,
       "version_minor": 0
      },
      "text/plain": [
       "    tau-loop (N=2000, β=0):   0%|          | 0/4 [00:00<?, ?it/s]"
      ]
     },
     "metadata": {},
     "output_type": "display_data"
    },
    {
     "data": {
      "application/vnd.jupyter.widget-view+json": {
       "model_id": "29d4adf17b924c8db1d4d1085ad468fd",
       "version_major": 2,
       "version_minor": 0
      },
      "text/plain": [
       "Reference k_step:   0%|          | 0/32768 [00:00<?, ?it/s]"
      ]
     },
     "metadata": {},
     "output_type": "display_data"
    },
    {
     "name": "stdout",
     "output_type": "stream",
     "text": [
      "    Reference solution calculated. N=2000, Time: 135.47s\n"
     ]
    },
    {
     "data": {
      "application/vnd.jupyter.widget-view+json": {
       "model_id": "e517cf5cd4b5441fb36cb2495d7a9f5e",
       "version_major": 2,
       "version_minor": 0
      },
      "text/plain": [
       "    tau-loop (N=2000, β=1):   0%|          | 0/4 [00:00<?, ?it/s]"
      ]
     },
     "metadata": {},
     "output_type": "display_data"
    },
    {
     "name": "stdout",
     "output_type": "stream",
     "text": [
      "\n",
      "Total simulation time: 306.67 seconds.\n"
     ]
    }
   ],
   "source": [
    "# =======================================================\n",
    "# --- Parameters ---\n",
    "# =======================================================\n",
    "T = 1\n",
    "N_values = [50, 500, 2000]\n",
    "\n",
    "p = 2\n",
    "beta_values = [0, 1]\n",
    "\n",
    "tau_powers = [-7, -6, -5, -4]\n",
    "tau_values = [2**pow for pow in tau_powers]\n",
    "\n",
    "K = 2**15\n",
    "radius = 2.0\n",
    "\n",
    "# Metropolis-Hastings parameters for initial condition sampling\n",
    "steps = 1000 # Number of M-H steps to take for each particle after burn-in\n",
    "burn_in = 100       # Initial M-H steps to discard\n",
    "proposal_std = 0.5  # Proposal step size for M-H\n",
    "\n",
    "# Averaging RBM Error\n",
    "N_RBM_AVERAGE_RUNS = 1 # Number of RBM runs to average error over for smoother plots\n",
    "\n",
    "\n",
    "# =======================================================\n",
    "# --- Main Simulation Loop ---\n",
    "# =======================================================\n",
    "figure2_results = []\n",
    "simulation_start_time = time.time()\n",
    "np.random.seed(42)  # For reproducibility\n",
    "\n",
    "for N in tqdm(N_values, desc=\"Loop over N\", leave=False, dynamic_ncols=True):\n",
    "    init_cond_time_start = time.time()\n",
    "    X0 = sample_initial_conditions_semicircle_metropolis_hastings(\n",
    "        N, radius, steps, burn_in, proposal_std\n",
    "    )\n",
    "    init_cond_time_end = time.time()\n",
    "    print(f\"  Initial conditions sampled. N={N}, Time: {init_cond_time_end - init_cond_time_start:.2f}s\")\n",
    "\n",
    "    for beta in tqdm(beta_values, desc=f\"  beta-loop (N={N})\", leave=False, dynamic_ncols=True):\n",
    "        ref_start_time = time.time()\n",
    "        X_ref = get_reference_X(X0, beta, T, K)\n",
    "        ref_end_time = time.time()\n",
    "        print(f\"    Reference solution calculated. N={N}, Time: {ref_end_time - ref_start_time:.2f}s\")\n",
    "\n",
    "        for tau in tqdm(tau_values, desc=f\"    tau-loop (N={N}, β={beta})\", leave=False, dynamic_ncols=True):\n",
    "            K_rbm = int(round(T / tau))\n",
    "\n",
    "            errors = np.zeros(N_RBM_AVERAGE_RUNS)\n",
    "            rbm_time = 0\n",
    "\n",
    "            for i in range(N_RBM_AVERAGE_RUNS):\n",
    "                rbm_start_time = time.time()\n",
    "                X_rbm = get_rbm1_X(\n",
    "                    X0, beta, T, p, K_rbm\n",
    "                )\n",
    "                rbm_end_time = time.time()\n",
    "                rbm_time += (rbm_end_time - rbm_start_time)\n",
    "                errors[i] = calculate_rbm_error(X_rbm, X_ref)\n",
    "\n",
    "            avg_error = np.mean(errors)\n",
    "            avg_rbm_time = rbm_time / N_RBM_AVERAGE_RUNS\n",
    "\n",
    "            figure2_results.append({\n",
    "                \"N\": N,\n",
    "                \"beta\": beta,\n",
    "                \"tau\": tau,\n",
    "                \"Error_E_hat\": avg_error\n",
    "            })\n",
    "\n",
    "simulation_end_time = time.time()\n",
    "print(f\"\\nTotal simulation time: {simulation_end_time - simulation_start_time:.2f} seconds.\")"
   ]
  },
  {
   "cell_type": "code",
   "execution_count": 12,
   "id": "4318b36a",
   "metadata": {},
   "outputs": [
    {
     "name": "stdout",
     "output_type": "stream",
     "text": [
      "\n",
      "--- Results for Figure 2 Data Points (Averaged RBM Error) ---\n",
      "   N  beta     tau Error_E_hat\n",
      "  50     0 0.00781   3.846e-02\n",
      "  50     0 0.01562   4.390e-02\n",
      "  50     0 0.03125   6.829e-02\n",
      "  50     0 0.06250   8.584e-02\n",
      "  50     1 0.00781   1.539e-02\n",
      "  50     1 0.01562   2.904e-02\n",
      "  50     1 0.03125   3.991e-02\n",
      "  50     1 0.06250   6.504e-02\n",
      " 500     0 0.00781   3.113e-02\n",
      " 500     0 0.01562   4.507e-02\n",
      " 500     0 0.03125   6.405e-02\n",
      " 500     0 0.06250   8.856e-02\n",
      " 500     1 0.00781   2.018e-02\n",
      " 500     1 0.01562   2.979e-02\n",
      " 500     1 0.03125   4.148e-02\n",
      " 500     1 0.06250   5.793e-02\n",
      "2000     0 0.00781   3.227e-02\n",
      "2000     0 0.01562   4.572e-02\n",
      "2000     0 0.03125   6.278e-02\n",
      "2000     0 0.06250   9.018e-02\n",
      "2000     1 0.00781   2.121e-02\n",
      "2000     1 0.01562   2.956e-02\n",
      "2000     1 0.03125   4.130e-02\n",
      "2000     1 0.06250   5.996e-02\n"
     ]
    },
    {
     "data": {
      "image/png": "[encoded data removed]",
      "text/plain": [
       "<Figure size 800x600 with 1 Axes>"
      ]
     },
     "metadata": {},
     "output_type": "display_data"
    },
    {
     "data": {
      "image/png": "[encoded data removed]",
      "text/plain": [
       "<Figure size 800x600 with 1 Axes>"
      ]
     },
     "metadata": {},
     "output_type": "display_data"
    }
   ],
   "source": [
    "# =======================================================\n",
    "# --- Display Results ---\n",
    "# =======================================================\n",
    "df_fig2_results = pd.DataFrame(figure2_results)\n",
    "print(\"\\n--- Results for Figure 2 Data Points (Averaged RBM Error) ---\")\n",
    "# Format for better readability\n",
    "df_print_fig2 = df_fig2_results.copy()\n",
    "df_print_fig2[\"tau\"] = df_print_fig2[\"tau\"].map('{:.5f}'.format)\n",
    "df_print_fig2[\"Error_E_hat\"] = df_print_fig2[\"Error_E_hat\"].map('{:.3e}'.format)\n",
    "print(df_print_fig2.to_string(index=False))\n",
    "\n",
    "\n",
    "# =======================================================\n",
    "# --- Plotting Figure 2 ---\n",
    "# =======================================================\n",
    "run_figure2 = True # Set to False to skip\n",
    "\n",
    "if run_figure2:\n",
    "    for b in df_fig2_results[\"beta\"].unique():\n",
    "        plt.figure(figsize=(8, 6))\n",
    "        plot_beta = df_fig2_results[df_fig2_results[\"beta\"] == b]\n",
    "        \n",
    "        # Define markers and colors as in the paper (approximate)\n",
    "        markers = ['o', '*', 's'] # circle, star, square\n",
    "        colors = ['blue', 'black', 'red'] # As per Fig 2 caption: N=50 blue circle, N=500 black star, N=2000 red square\n",
    "\n",
    "        sorted_N = sorted(plot_beta[\"N\"].unique())\n",
    "\n",
    "        for i, n in enumerate(sorted_N):\n",
    "            plot_N = plot_beta[plot_beta[\"N\"] == n]\n",
    "            # Sort by tau for consistent plotting lines\n",
    "            plot_N = plot_N.sort_values(by=\"tau\")\n",
    "            plt.plot(plot_N[\"tau\"], plot_N[\"Error_E_hat\"], \n",
    "                     marker=markers[i % len(markers)], \n",
    "                     color=colors[i % len(colors)],\n",
    "                     linestyle='-', \n",
    "                     label=f'N={n}')\n",
    "        \n",
    "        plt.xscale('log', base=2)\n",
    "        plt.yscale('log')\n",
    "        plt.xlabel(r'$\\tau$ (RBM time step)') # Using tau as in paper's Fig 2\n",
    "        plt.ylabel(r'$\\hat{E}(T)$')\n",
    "        plt.title(f'RBM Error vs. RBM time step ($\\\\beta_{{RBM}}$ = {b})')\n",
    "        plt.legend()\n",
    "        plt.grid(True, which=\"both\", ls=\"--\", alpha=0.7)\n",
    "        plt.gca().yaxis.set_major_formatter(StrMethodFormatter('{x:.2f}')) # 2 decimal places\n",
    "        plt.gca().yaxis.set_minor_formatter(FormatStrFormatter(\"%.2f\")) # 2 decimal places for minor ticks\n",
    "      \n",
    "        sorted_tau = sorted(list(df_fig2_results[\"tau\"].unique()))\n",
    "        xtick_labels_powers = [int(np.log2(val)) for val in sorted_tau]\n",
    "        xtick_labels = [f'$2^{{{pow}}}$' for pow in xtick_labels_powers]\n",
    "        plt.xticks(sorted_tau, xtick_labels)\n",
    "        plt.show()"
   ]
  },
  {
   "cell_type": "markdown",
   "id": "225f8590",
   "metadata": {},
   "source": [
    "# Figure 3"
   ]
  },
  {
   "cell_type": "code",
   "execution_count": 20,
   "id": "44c66007",
   "metadata": {},
   "outputs": [
    {
     "name": "stdout",
     "output_type": "stream",
     "text": [
      "Initial conditions sampled. Time: 3.33s\n"
     ]
    },
    {
     "data": {
      "application/vnd.jupyter.widget-view+json": {
       "model_id": "ca057d298ef341f0afc64dbdfb82218e",
       "version_major": 2,
       "version_minor": 0
      },
      "text/plain": [
       "  beta-loop (N=500):   0%|          | 0/2 [00:00<?, ?it/s]"
      ]
     },
     "metadata": {},
     "output_type": "display_data"
    },
    {
     "data": {
      "application/vnd.jupyter.widget-view+json": {
       "model_id": "e0c920cd98334f698beb81dfd432b628",
       "version_major": 2,
       "version_minor": 0
      },
      "text/plain": [
       "    T-loop (N=500, β=0):   0%|          | 0/5 [00:00<?, ?it/s]"
      ]
     },
     "metadata": {},
     "output_type": "display_data"
    },
    {
     "name": "stdout",
     "output_type": "stream",
     "text": [
      "\n",
      "Running for T=1\n"
     ]
    },
    {
     "data": {
      "application/vnd.jupyter.widget-view+json": {
       "model_id": "2ee490b3799b4374a1d8cc9b202c29da",
       "version_major": 2,
       "version_minor": 0
      },
      "text/plain": [
       "Reference k_step:   0%|          | 0/32768 [00:00<?, ?it/s]"
      ]
     },
     "metadata": {},
     "output_type": "display_data"
    },
    {
     "name": "stdout",
     "output_type": "stream",
     "text": [
      "    Reference solution calculated. Time: 8.85s\n",
      "    RBM solutions calculated. Avg RBM Time: 0.33s/run\n",
      "    Avg_Error_E_hat=3.190e-02\n",
      "\n",
      "Running for T=2\n"
     ]
    },
    {
     "data": {
      "application/vnd.jupyter.widget-view+json": {
       "model_id": "5479dc83b96e4d6f83bb126a63c4be66",
       "version_major": 2,
       "version_minor": 0
      },
      "text/plain": [
       "Reference k_step:   0%|          | 0/65536 [00:00<?, ?it/s]"
      ]
     },
     "metadata": {},
     "output_type": "display_data"
    },
    {
     "name": "stdout",
     "output_type": "stream",
     "text": [
      "    Reference solution calculated. Time: 17.65s\n",
      "    RBM solutions calculated. Avg RBM Time: 0.59s/run\n",
      "    Avg_Error_E_hat=4.813e-02\n",
      "\n",
      "Running for T=4\n"
     ]
    },
    {
     "data": {
      "application/vnd.jupyter.widget-view+json": {
       "model_id": "b0b74e8c0e03480a89886ff197de029c",
       "version_major": 2,
       "version_minor": 0
      },
      "text/plain": [
       "Reference k_step:   0%|          | 0/131072 [00:00<?, ?it/s]"
      ]
     },
     "metadata": {},
     "output_type": "display_data"
    },
    {
     "name": "stdout",
     "output_type": "stream",
     "text": [
      "    Reference solution calculated. Time: 33.94s\n",
      "    RBM solutions calculated. Avg RBM Time: 1.03s/run\n",
      "    Avg_Error_E_hat=8.005e-02\n",
      "\n",
      "Running for T=8\n"
     ]
    },
    {
     "data": {
      "application/vnd.jupyter.widget-view+json": {
       "model_id": "30d6ff5919024749b954ea99fa12095f",
       "version_major": 2,
       "version_minor": 0
      },
      "text/plain": [
       "Reference k_step:   0%|          | 0/262144 [00:00<?, ?it/s]"
      ]
     },
     "metadata": {},
     "output_type": "display_data"
    },
    {
     "name": "stdout",
     "output_type": "stream",
     "text": [
      "    Reference solution calculated. Time: 67.24s\n",
      "    RBM solutions calculated. Avg RBM Time: 2.18s/run\n",
      "    Avg_Error_E_hat=1.128e-01\n",
      "\n",
      "Running for T=16\n"
     ]
    },
    {
     "data": {
      "application/vnd.jupyter.widget-view+json": {
       "model_id": "54485ac8554d4510990cd025b21e269c",
       "version_major": 2,
       "version_minor": 0
      },
      "text/plain": [
       "Reference k_step:   0%|          | 0/524288 [00:00<?, ?it/s]"
      ]
     },
     "metadata": {},
     "output_type": "display_data"
    },
    {
     "name": "stdout",
     "output_type": "stream",
     "text": [
      "    Reference solution calculated. Time: 133.47s\n",
      "    RBM solutions calculated. Avg RBM Time: 4.33s/run\n",
      "    Avg_Error_E_hat=1.909e-01\n"
     ]
    },
    {
     "data": {
      "application/vnd.jupyter.widget-view+json": {
       "model_id": "441a07ab3d2e4f88b66b0bbb2e34bc14",
       "version_major": 2,
       "version_minor": 0
      },
      "text/plain": [
       "    T-loop (N=500, β=1):   0%|          | 0/5 [00:00<?, ?it/s]"
      ]
     },
     "metadata": {},
     "output_type": "display_data"
    },
    {
     "name": "stdout",
     "output_type": "stream",
     "text": [
      "\n",
      "Running for T=1\n"
     ]
    },
    {
     "data": {
      "application/vnd.jupyter.widget-view+json": {
       "model_id": "da1f6e8498b6431f88ec94cb2f9a0fe4",
       "version_major": 2,
       "version_minor": 0
      },
      "text/plain": [
       "Reference k_step:   0%|          | 0/32768 [00:00<?, ?it/s]"
      ]
     },
     "metadata": {},
     "output_type": "display_data"
    },
    {
     "name": "stdout",
     "output_type": "stream",
     "text": [
      "    Reference solution calculated. Time: 8.50s\n",
      "    RBM solutions calculated. Avg RBM Time: 0.27s/run\n",
      "    Avg_Error_E_hat=2.062e-02\n",
      "\n",
      "Running for T=2\n"
     ]
    },
    {
     "data": {
      "application/vnd.jupyter.widget-view+json": {
       "model_id": "0204ee4e69bf4a579b6f3a80e3bb76b5",
       "version_major": 2,
       "version_minor": 0
      },
      "text/plain": [
       "Reference k_step:   0%|          | 0/65536 [00:00<?, ?it/s]"
      ]
     },
     "metadata": {},
     "output_type": "display_data"
    },
    {
     "name": "stdout",
     "output_type": "stream",
     "text": [
      "    Reference solution calculated. Time: 16.68s\n",
      "    RBM solutions calculated. Avg RBM Time: 0.59s/run\n",
      "    Avg_Error_E_hat=2.340e-02\n",
      "\n",
      "Running for T=4\n"
     ]
    },
    {
     "data": {
      "application/vnd.jupyter.widget-view+json": {
       "model_id": "5f37a9a0162a458ba0d186d0ab744244",
       "version_major": 2,
       "version_minor": 0
      },
      "text/plain": [
       "Reference k_step:   0%|          | 0/131072 [00:00<?, ?it/s]"
      ]
     },
     "metadata": {},
     "output_type": "display_data"
    },
    {
     "name": "stdout",
     "output_type": "stream",
     "text": [
      "    Reference solution calculated. Time: 33.37s\n",
      "    RBM solutions calculated. Avg RBM Time: 1.15s/run\n",
      "    Avg_Error_E_hat=2.443e-02\n",
      "\n",
      "Running for T=8\n"
     ]
    },
    {
     "data": {
      "application/vnd.jupyter.widget-view+json": {
       "model_id": "26f0f6fc5793479e956205a8a3f3ff90",
       "version_major": 2,
       "version_minor": 0
      },
      "text/plain": [
       "Reference k_step:   0%|          | 0/262144 [00:00<?, ?it/s]"
      ]
     },
     "metadata": {},
     "output_type": "display_data"
    },
    {
     "name": "stdout",
     "output_type": "stream",
     "text": [
      "    Reference solution calculated. Time: 66.77s\n",
      "    RBM solutions calculated. Avg RBM Time: 2.23s/run\n",
      "    Avg_Error_E_hat=2.755e-02\n",
      "\n",
      "Running for T=16\n"
     ]
    },
    {
     "data": {
      "application/vnd.jupyter.widget-view+json": {
       "model_id": "d32b776f658b41ff926d1dc21336e779",
       "version_major": 2,
       "version_minor": 0
      },
      "text/plain": [
       "Reference k_step:   0%|          | 0/524288 [00:00<?, ?it/s]"
      ]
     },
     "metadata": {},
     "output_type": "display_data"
    },
    {
     "name": "stdout",
     "output_type": "stream",
     "text": [
      "    Reference solution calculated. Time: 133.76s\n",
      "    RBM solutions calculated. Avg RBM Time: 4.12s/run\n",
      "    Avg_Error_E_hat=2.851e-02\n",
      "\n",
      "--- Error for RBM-1 versus time ---\n",
      "  N  beta  T  Error_E_hat\n",
      "500     0  1     0.031902\n",
      "500     0  2     0.048132\n",
      "500     0  4     0.080050\n",
      "500     0  8     0.112842\n",
      "500     0 16     0.190859\n",
      "500     1  1     0.020621\n",
      "500     1  2     0.023398\n",
      "500     1  4     0.024435\n",
      "500     1  8     0.027555\n",
      "500     1 16     0.028506\n",
      "Total Time: 540.42s\n"
     ]
    }
   ],
   "source": [
    "# =======================================================\n",
    "# --- Parameters ---\n",
    "# =======================================================\n",
    "N_fig3 = 500\n",
    "beta_values_fig3 = [0, 1]\n",
    "tau_rbm_fig3 = 2**-7\n",
    "T_values_fig3 = [1, 2, 4, 8, 16]\n",
    "tau_ref_fig3 = 2**-15\n",
    "\n",
    "\n",
    "figure3_results_list = []\n",
    "fig3_total_start_time = time.time() # Total time start\n",
    "\n",
    "init_cond_time_start_fig3 = time.time()\n",
    "X0_fig3 = sample_initial_conditions_semicircle_metropolis_hastings(\n",
    "    N_fig3, radius, steps, burn_in, proposal_std\n",
    ")\n",
    "init_cond_time_end_fig3 = time.time()\n",
    "print(f\"Initial conditions sampled. Time: {init_cond_time_end_fig3 - init_cond_time_start_fig3:.2f}s\")\n",
    "\n",
    "for beta_fig3 in tqdm(beta_values_fig3, desc=f\"  beta-loop (N={N_fig3})\", leave=False, dynamic_ncols=True):\n",
    "    for T_fig3 in tqdm(T_values_fig3, desc=f\"    T-loop (N={N_fig3}, β={beta_fig3})\", leave=False, dynamic_ncols=True):\n",
    "        print(f\"\\nRunning for T={T_fig3}\")\n",
    "        K_ref_fig3 = int(round(T_fig3 / tau_ref_fig3))\n",
    "        K_rbm_fig3 = int(round(T_fig3 / tau_rbm_fig3))\n",
    "\n",
    "        ref_start_time_fig3 = time.time()\n",
    "        X_ref_fig3 = get_reference_X(\n",
    "            X0_fig3, beta_fig3, T_fig3, K_ref_fig3\n",
    "        )\n",
    "        ref_end_time_fig3 = time.time()\n",
    "        print(f\"    Reference solution calculated. Time: {ref_end_time_fig3 - ref_start_time_fig3:.2f}s\")\n",
    "        \n",
    "        errors_fig3 = np.zeros(N_RBM_AVERAGE_RUNS)\n",
    "        rbm_time_fig3 = 0\n",
    "        for i in range(N_RBM_AVERAGE_RUNS):\n",
    "            rbm_start_time_fig3 = time.time()\n",
    "            X_rbm_fig3 = get_rbm1_X(\n",
    "                X0_fig3, beta_fig3, T_fig3, p, K_rbm_fig3\n",
    "            )\n",
    "            rbm_end_time_fig3 = time.time()\n",
    "            rbm_time_fig3 += (rbm_end_time_fig3 - rbm_start_time_fig3)\n",
    "            errors_fig3[i] = calculate_rbm_error(X_rbm_fig3, X_ref_fig3)\n",
    "        avg_error_fig3 = np.mean(errors_fig3)\n",
    "        avg_rbm_time_fig3 = rbm_time_fig3 / N_RBM_AVERAGE_RUNS\n",
    "        print(f\"    RBM solutions calculated. Avg RBM Time: {avg_rbm_time_fig3:.2f}s/run\")\n",
    "        \n",
    "        figure3_results_list.append({\n",
    "            \"N\": N_fig3, \"beta\": beta_fig3, \"T\": T_fig3, \"Error_E_hat\": avg_error_fig3\n",
    "        })\n",
    "        print(f\"    Avg_Error_E_hat={avg_error_fig3:.3e}\")\n",
    "        \n",
    "df_fig3_results = pd.DataFrame(figure3_results_list)\n",
    "print(\"\\n--- Error for RBM-1 versus time ---\")\n",
    "print(df_fig3_results.to_string(index=False))\n",
    "fig3_total_end_time = time.time()\n",
    "print(f\"Total Time: {fig3_total_end_time - fig3_total_start_time:.2f}s\")"
   ]
  },
  {
   "cell_type": "code",
   "execution_count": null,
   "id": "94c36363",
   "metadata": {},
   "outputs": [
    {
     "data": {
      "image/png": "[encoded data removed]",
      "text/plain": [
       "<Figure size 800x600 with 1 Axes>"
      ]
     },
     "metadata": {},
     "output_type": "display_data"
    },
    {
     "data": {
      "image/png": "[encoded data removed]",
      "text/plain": [
       "<Figure size 640x480 with 1 Axes>"
      ]
     },
     "metadata": {},
     "output_type": "display_data"
    }
   ],
   "source": [
    "# =======================================================\n",
    "# Plotting for Figure 3\n",
    "# =======================================================\n",
    "plt.figure(figsize=(8, 6))\n",
    "for b in df_fig3_results[\"beta\"].unique():\n",
    "    plot_beta = df_fig3_results[df_fig3_results[\"beta\"] == b]\n",
    "    plt.plot(plot_beta[\"T\"], plot_beta[\"Error_E_hat\"], marker='o', linestyle='-', label=f'beta={b}')\n",
    "    plt.xlabel('Time T')\n",
    "    plt.ylabel(r'$\\hat{E}(T)$')\n",
    "    plt.title(f'RBM Figure 3: Error vs. Time T (N={N_fig3}, tau={tau_rbm_fig3:.5f})')\n",
    "    plt.legend()\n",
    "    plt.grid(True, which=\"both\", ls=\"--\", alpha=0.7)\n",
    "    plt.yscale('log')\n",
    "    plt.yticks([0.01, 0.02, 0.03, 0.04, 0.05, 0.1, 0.15, 0.2, 0.25])\n",
    "    plt.gca().yaxis.set_major_formatter(StrMethodFormatter('{x:.2f}')) # 2 decimal places\n",
    "    plt.show()"
   ]
  },
  {
   "cell_type": "code",
   "execution_count": 23,
   "id": "5fb0d4c4",
   "metadata": {},
   "outputs": [
    {
     "data": {
      "application/vnd.jupyter.widget-view+json": {
       "model_id": "cd458034df9e430fa10d95feaa7a15f6",
       "version_major": 2,
       "version_minor": 0
      },
      "text/plain": [
       "Loop over N:   0%|          | 0/3 [00:00<?, ?it/s]"
      ]
     },
     "metadata": {},
     "output_type": "display_data"
    },
    {
     "name": "stdout",
     "output_type": "stream",
     "text": [
      "Initial conditions sampled. Time: 0.63s\n"
     ]
    },
    {
     "data": {
      "application/vnd.jupyter.widget-view+json": {
       "model_id": "a622e27090a84afcb518b1610a6af17b",
       "version_major": 2,
       "version_minor": 0
      },
      "text/plain": [
       "Reference k_step:   0%|          | 0/32768 [00:00<?, ?it/s]"
      ]
     },
     "metadata": {},
     "output_type": "display_data"
    },
    {
     "name": "stdout",
     "output_type": "stream",
     "text": [
      "High-Accuracy Reference Done. Time: 0.44s\n"
     ]
    },
    {
     "data": {
      "application/vnd.jupyter.widget-view+json": {
       "model_id": "303d7cc443ec41be95aebe1eb586a292",
       "version_major": 2,
       "version_minor": 0
      },
      "text/plain": [
       "  K-Loop (N=100):   0%|          | 0/6 [00:00<?, ?it/s]"
      ]
     },
     "metadata": {},
     "output_type": "display_data"
    },
    {
     "data": {
      "application/vnd.jupyter.widget-view+json": {
       "model_id": "5d649ba4e5e44a889923d52e0c5adf2d",
       "version_major": 2,
       "version_minor": 0
      },
      "text/plain": [
       "Reference k_step:   0%|          | 0/64 [00:00<?, ?it/s]"
      ]
     },
     "metadata": {},
     "output_type": "display_data"
    },
    {
     "data": {
      "application/vnd.jupyter.widget-view+json": {
       "model_id": "79792684151b4f48ab94ab31e71d7641",
       "version_major": 2,
       "version_minor": 0
      },
      "text/plain": [
       "Reference k_step:   0%|          | 0/32 [00:00<?, ?it/s]"
      ]
     },
     "metadata": {},
     "output_type": "display_data"
    },
    {
     "data": {
      "application/vnd.jupyter.widget-view+json": {
       "model_id": "b351471a306c4ef4bac6d4824296d1e0",
       "version_major": 2,
       "version_minor": 0
      },
      "text/plain": [
       "Reference k_step:   0%|          | 0/16 [00:00<?, ?it/s]"
      ]
     },
     "metadata": {},
     "output_type": "display_data"
    },
    {
     "data": {
      "application/vnd.jupyter.widget-view+json": {
       "model_id": "0a346bb218d34189b4bf3e5a98b5e030",
       "version_major": 2,
       "version_minor": 0
      },
      "text/plain": [
       "Reference k_step:   0%|          | 0/8 [00:00<?, ?it/s]"
      ]
     },
     "metadata": {},
     "output_type": "display_data"
    },
    {
     "data": {
      "application/vnd.jupyter.widget-view+json": {
       "model_id": "b063a56619bf4519a0ed23f3faf0caef",
       "version_major": 2,
       "version_minor": 0
      },
      "text/plain": [
       "Reference k_step:   0%|          | 0/4 [00:00<?, ?it/s]"
      ]
     },
     "metadata": {},
     "output_type": "display_data"
    },
    {
     "data": {
      "application/vnd.jupyter.widget-view+json": {
       "model_id": "be2151f3fc6344f0846e6b7f55a4f63f",
       "version_major": 2,
       "version_minor": 0
      },
      "text/plain": [
       "Reference k_step:   0%|          | 0/2 [00:00<?, ?it/s]"
      ]
     },
     "metadata": {},
     "output_type": "display_data"
    },
    {
     "name": "stdout",
     "output_type": "stream",
     "text": [
      "Initial conditions sampled. Time: 6.09s\n"
     ]
    },
    {
     "data": {
      "application/vnd.jupyter.widget-view+json": {
       "model_id": "1409863170554a2f938ad35866adba7d",
       "version_major": 2,
       "version_minor": 0
      },
      "text/plain": [
       "Reference k_step:   0%|          | 0/32768 [00:00<?, ?it/s]"
      ]
     },
     "metadata": {},
     "output_type": "display_data"
    },
    {
     "name": "stdout",
     "output_type": "stream",
     "text": [
      "High-Accuracy Reference Done. Time: 32.73s\n"
     ]
    },
    {
     "data": {
      "application/vnd.jupyter.widget-view+json": {
       "model_id": "e3f913f98f5c4d1fa8ec24a2266b57c2",
       "version_major": 2,
       "version_minor": 0
      },
      "text/plain": [
       "  K-Loop (N=1000):   0%|          | 0/6 [00:00<?, ?it/s]"
      ]
     },
     "metadata": {},
     "output_type": "display_data"
    },
    {
     "data": {
      "application/vnd.jupyter.widget-view+json": {
       "model_id": "22e93885dacd422ab3164a8152450617",
       "version_major": 2,
       "version_minor": 0
      },
      "text/plain": [
       "Reference k_step:   0%|          | 0/64 [00:00<?, ?it/s]"
      ]
     },
     "metadata": {},
     "output_type": "display_data"
    },
    {
     "data": {
      "application/vnd.jupyter.widget-view+json": {
       "model_id": "67dcb12c536042afa67d105b4b9ce3af",
       "version_major": 2,
       "version_minor": 0
      },
      "text/plain": [
       "Reference k_step:   0%|          | 0/32 [00:00<?, ?it/s]"
      ]
     },
     "metadata": {},
     "output_type": "display_data"
    },
    {
     "data": {
      "application/vnd.jupyter.widget-view+json": {
       "model_id": "a10140b6722347c7832f7e3a138282f4",
       "version_major": 2,
       "version_minor": 0
      },
      "text/plain": [
       "Reference k_step:   0%|          | 0/16 [00:00<?, ?it/s]"
      ]
     },
     "metadata": {},
     "output_type": "display_data"
    },
    {
     "data": {
      "application/vnd.jupyter.widget-view+json": {
       "model_id": "aecd74630b9f45a58fcba9226aeb286d",
       "version_major": 2,
       "version_minor": 0
      },
      "text/plain": [
       "Reference k_step:   0%|          | 0/8 [00:00<?, ?it/s]"
      ]
     },
     "metadata": {},
     "output_type": "display_data"
    },
    {
     "data": {
      "application/vnd.jupyter.widget-view+json": {
       "model_id": "aab91655d1af4f8bb6a4a07a606f785c",
       "version_major": 2,
       "version_minor": 0
      },
      "text/plain": [
       "Reference k_step:   0%|          | 0/4 [00:00<?, ?it/s]"
      ]
     },
     "metadata": {},
     "output_type": "display_data"
    },
    {
     "data": {
      "application/vnd.jupyter.widget-view+json": {
       "model_id": "2e1dc5378ba04acbb44f2eca96f8b38d",
       "version_major": 2,
       "version_minor": 0
      },
      "text/plain": [
       "Reference k_step:   0%|          | 0/2 [00:00<?, ?it/s]"
      ]
     },
     "metadata": {},
     "output_type": "display_data"
    },
    {
     "name": "stdout",
     "output_type": "stream",
     "text": [
      "Initial conditions sampled. Time: 59.29s\n"
     ]
    },
    {
     "data": {
      "application/vnd.jupyter.widget-view+json": {
       "model_id": "d75edc39bdff4610a71756ba7ab972e6",
       "version_major": 2,
       "version_minor": 0
      },
      "text/plain": [
       "Reference k_step:   0%|          | 0/32768 [00:00<?, ?it/s]"
      ]
     },
     "metadata": {},
     "output_type": "display_data"
    },
    {
     "name": "stdout",
     "output_type": "stream",
     "text": [
      "High-Accuracy Reference Done. Time: 3278.21s\n"
     ]
    },
    {
     "data": {
      "application/vnd.jupyter.widget-view+json": {
       "model_id": "19e0213bec8047adbcd5f09da9d65697",
       "version_major": 2,
       "version_minor": 0
      },
      "text/plain": [
       "  K-Loop (N=10000):   0%|          | 0/6 [00:00<?, ?it/s]"
      ]
     },
     "metadata": {},
     "output_type": "display_data"
    },
    {
     "data": {
      "application/vnd.jupyter.widget-view+json": {
       "model_id": "34e31d8508bb4b65ad97365a5fe7c63d",
       "version_major": 2,
       "version_minor": 0
      },
      "text/plain": [
       "Reference k_step:   0%|          | 0/64 [00:00<?, ?it/s]"
      ]
     },
     "metadata": {},
     "output_type": "display_data"
    },
    {
     "data": {
      "application/vnd.jupyter.widget-view+json": {
       "model_id": "853852f46d1640bb92d297f5eedbd63f",
       "version_major": 2,
       "version_minor": 0
      },
      "text/plain": [
       "Reference k_step:   0%|          | 0/32 [00:00<?, ?it/s]"
      ]
     },
     "metadata": {},
     "output_type": "display_data"
    },
    {
     "data": {
      "application/vnd.jupyter.widget-view+json": {
       "model_id": "56362c2fa41141ba8926e68b4475bc89",
       "version_major": 2,
       "version_minor": 0
      },
      "text/plain": [
       "Reference k_step:   0%|          | 0/16 [00:00<?, ?it/s]"
      ]
     },
     "metadata": {},
     "output_type": "display_data"
    },
    {
     "data": {
      "application/vnd.jupyter.widget-view+json": {
       "model_id": "93e03dc97fef4967a3ec12f74f178515",
       "version_major": 2,
       "version_minor": 0
      },
      "text/plain": [
       "Reference k_step:   0%|          | 0/8 [00:00<?, ?it/s]"
      ]
     },
     "metadata": {},
     "output_type": "display_data"
    },
    {
     "data": {
      "application/vnd.jupyter.widget-view+json": {
       "model_id": "c26a12705af642af97af3031505e802e",
       "version_major": 2,
       "version_minor": 0
      },
      "text/plain": [
       "Reference k_step:   0%|          | 0/4 [00:00<?, ?it/s]"
      ]
     },
     "metadata": {},
     "output_type": "display_data"
    },
    {
     "data": {
      "application/vnd.jupyter.widget-view+json": {
       "model_id": "d341f2e55bef4610953a64d10b3c2c84",
       "version_major": 2,
       "version_minor": 0
      },
      "text/plain": [
       "Reference k_step:   0%|          | 0/2 [00:00<?, ?it/s]"
      ]
     },
     "metadata": {},
     "output_type": "display_data"
    },
    {
     "name": "stdout",
     "output_type": "stream",
     "text": [
      "\n",
      "--- Fig4 Results (Error vs. CPU Time) ---\n",
      "Method     N  beta  Steps_or_Tau  CPU_Time_s  Error_E_hat\n",
      "Direct   100     1            64    0.008797     0.002464\n",
      " RBM-1   100     1            64    0.032332     0.032401\n",
      "Direct   100     1            32    0.009974     0.004965\n",
      " RBM-1   100     1            32    0.024122     0.042045\n",
      "Direct   100     1            16    0.006980     0.010072\n",
      " RBM-1   100     1            16    0.011543     0.059166\n",
      "Direct   100     1             8    0.008302     0.020722\n",
      " RBM-1   100     1             8    0.003989     0.088500\n",
      "Direct   100     1             4    0.007978     0.044004\n",
      " RBM-1   100     1             4    0.001015     0.123859\n",
      "Direct   100     1             2    0.008733     0.101108\n",
      " RBM-1   100     1             2    0.000997     0.202437\n",
      "Direct  1000     1            64    0.081318     0.002193\n",
      " RBM-1  1000     1            64    0.287891     0.029924\n",
      "Direct  1000     1            32    0.047632     0.004420\n",
      " RBM-1  1000     1            32    0.152368     0.042530\n",
      "Direct  1000     1            16    0.021317     0.008966\n",
      " RBM-1  1000     1            16    0.074101     0.058158\n",
      "Direct  1000     1             8    0.013391     0.018446\n",
      " RBM-1  1000     1             8    0.035865     0.086040\n",
      "Direct  1000     1             4    0.010031     0.039164\n",
      " RBM-1  1000     1             4    0.021185     0.132644\n",
      "Direct  1000     1             2    0.013423     0.089951\n",
      " RBM-1  1000     1             2    0.012771     0.208022\n",
      "Direct 10000     1            64    6.573817     0.002210\n",
      " RBM-1 10000     1            64    3.001250     0.029324\n",
      "Direct 10000     1            32    3.170804     0.004455\n",
      " RBM-1 10000     1            32    1.492856     0.042229\n",
      "Direct 10000     1            16    1.626981     0.009036\n",
      " RBM-1 10000     1            16    0.716550     0.061066\n",
      "Direct 10000     1             8    0.800041     0.018589\n",
      " RBM-1 10000     1             8    0.376303     0.088230\n",
      "Direct 10000     1             4    0.423714     0.039468\n",
      " RBM-1 10000     1             4    0.183335     0.128830\n",
      "Direct 10000     1             2    0.208668     0.090648\n",
      " RBM-1 10000     1             2    0.089320     0.208874\n",
      "Fig4 Total Time: 3397.00s\n"
     ]
    }
   ],
   "source": [
    "# =======================================================\n",
    "# --- Plotting Figure 4 ---\n",
    "# =======================================================\n",
    "N_values_fig4 = [100, 1000, 10000] \n",
    "beta_fig4 = 1\n",
    "T_fig4 = 1\n",
    "K_ref_fig4 = 2**15\n",
    "K_powers_fig4 = [6, 5, 4, 3, 2, 1]\n",
    "K_values_fig4 = [2**pow for pow in K_powers_fig4] # Direct computation K values\n",
    "N_RBM_AVERAGE_RUNS = 1\n",
    "\n",
    "\n",
    "figure4_results_list = []\n",
    "fig4_total_start_time = time.time()\n",
    "\n",
    "for N_fig4 in tqdm(N_values_fig4, desc=\"Loop over N\", leave=False, dynamic_ncols=True):\n",
    "    init_cond_time_start_fig4 = time.time()\n",
    "    X0_fig4 = sample_initial_conditions_semicircle_metropolis_hastings(\n",
    "        N_fig4, radius, steps, burn_in, proposal_std\n",
    "    )\n",
    "    init_cond_time_end_fig4 = time.time()\n",
    "    print(f\"Initial conditions sampled. Time: {init_cond_time_end_fig4 - init_cond_time_start_fig4:.2f}s\")\n",
    "\n",
    "    ref_start_time_fig4 = time.time()\n",
    "    X_ref_fig4 = get_reference_X(\n",
    "        X0_fig4, beta_fig4, T_fig4, K_ref_fig4\n",
    "    )\n",
    "    ref_end_time_fig4 = time.time()\n",
    "    print(f\"High-Accuracy Reference Done. Time: {ref_end_time_fig4 - ref_start_time_fig4:.2f}s\")\n",
    "    \n",
    "    # Generate data for Figure 4\n",
    "    for K_fig4 in tqdm(K_values_fig4, desc=f\"  K-Loop (N={N_fig4})\", leave=False, dynamic_ncols=True):\n",
    "        tau_fig4 = T_fig4 / K_fig4\n",
    "\n",
    "        # Direct solution\n",
    "        direct_start_time = time.time()\n",
    "        X_direct = get_reference_X(\n",
    "            X0_fig4, beta_fig4, T_fig4, K_fig4\n",
    "        )\n",
    "        direct_end_time = time.time()\n",
    "        cpu_time_direct = direct_end_time - direct_start_time\n",
    "        error_direct = calculate_rbm_error(X_direct, X_ref_fig4)\n",
    "        \n",
    "        figure4_results_list.append({\n",
    "            \"Method\": \"Direct\", \"N\": N_fig4, \"beta\": beta_fig4, \n",
    "            \"Steps_or_Tau\": K_fig4, # Storing K_micro_steps here\n",
    "            \"CPU_Time_s\": cpu_time_direct, \"Error_E_hat\": error_direct\n",
    "        })\n",
    "\n",
    "        # RBM-1\n",
    "        errors_fig4 = np.zeros(N_RBM_AVERAGE_RUNS)\n",
    "        cpu_times_rbm = np.zeros(N_RBM_AVERAGE_RUNS)\n",
    "\n",
    "        for i in range(N_RBM_AVERAGE_RUNS):\n",
    "            rbm_start_time = time.time()\n",
    "            X_rbm_fig4 = get_rbm1_X(\n",
    "                X0_fig4, beta_fig4, T_fig4, p, K_fig4\n",
    "            )\n",
    "            rbm_end_time = time.time()\n",
    "            cpu_times_rbm[i] = rbm_end_time - rbm_start_time\n",
    "            errors_fig4[i] = calculate_rbm_error(X_rbm_fig4, X_ref_fig4)\n",
    "        \n",
    "        avg_error_rbm_fig4 = np.mean(errors_fig4)\n",
    "        avg_cpu_time_rbm = np.mean(cpu_times_rbm)\n",
    "        \n",
    "        figure4_results_list.append({\n",
    "            \"Method\": \"RBM-1\", \"N\": N_fig4, \"beta\": beta_fig4,\n",
    "            \"Steps_or_Tau\": K_fig4, # Storing tau here\n",
    "            \"CPU_Time_s\": avg_cpu_time_rbm, \"Error_E_hat\": avg_error_rbm_fig4\n",
    "        })\n",
    "df_fig4_results = pd.DataFrame(figure4_results_list)\n",
    "print(\"\\n--- Fig4 Results (Error vs. CPU Time) ---\")\n",
    "print(df_fig4_results.to_string(index=False))\n",
    "fig4_total_end_time = time.time()\n",
    "print(f\"Fig4 Total Time: {fig4_total_end_time - fig4_total_start_time:.2f}s\")"
   ]
  },
  {
   "cell_type": "code",
   "execution_count": 24,
   "id": "b709afbe",
   "metadata": {},
   "outputs": [
    {
     "data": {
      "image/png": "[encoded data removed]",
      "text/plain": [
       "<Figure size 800x600 with 1 Axes>"
      ]
     },
     "metadata": {},
     "output_type": "display_data"
    }
   ],
   "source": [
    "# Plotting for Figure 4\n",
    "plt.figure(figsize=(8, 6))\n",
    "methods = df_fig4_results[\"Method\"].unique()\n",
    "markers_fig4 = ['o', 's', '^'] # Different markers for different methods/N values\n",
    "\n",
    "for N_fig4 in N_values_fig4:\n",
    "    for i, method in enumerate(methods):\n",
    "        subset_method = df_fig4_results[(df_fig4_results[\"Method\"] == method) & (df_fig4_results[\"N\"] == N_fig4)]\n",
    "        # Sort by CPU_Time_s for consistent plotting lines\n",
    "        subset_method = subset_method.sort_values(by=\"CPU_Time_s\")\n",
    "        plt.plot(subset_method[\"CPU_Time_s\"], subset_method[\"Error_E_hat\"], \n",
    "                    marker=markers_fig4[i % len(markers_fig4)], \n",
    "                    linestyle='-', \n",
    "                    label=f'{method} (N={N_fig4})')\n",
    "\n",
    "plt.xscale('log')\n",
    "plt.yscale('log')\n",
    "plt.xticks([1e-4, 1e-3, 1e-2, 1e-1, 1e0, 1e1])\n",
    "plt.xlabel('CPU Time (s)')\n",
    "plt.ylabel(r'$\\hat{E}(T)$')\n",
    "plt.title(f'RBM Figure 4 Repro: Error vs. CPU Time (T={T_fig4})')\n",
    "plt.legend()\n",
    "plt.grid(True, which=\"both\", ls=\"--\", alpha=0.7)\n",
    "plt.gca().yaxis.set_major_formatter(StrMethodFormatter('{x:.2f}')) # 2 decimal places\n",
    "plt.show()"
   ]
  },
  {
   "cell_type": "code",
   "execution_count": null,
   "id": "27330acc",
   "metadata": {},
   "outputs": [
    {
     "name": "stdout",
     "output_type": "stream",
     "text": [
      "✅ Only picklable variables saved to my_session.pkl\n"
     ]
    }
   ],
   "source": [
    "# =======================================================\n",
    "# --- Saving Variables ---\n",
    "# =======================================================\n",
    "import pickle\n",
    "\n",
    "# Safely filter out unpicklable or irrelevant entries\n",
    "def is_picklable(obj):\n",
    "    try:\n",
    "        pickle.dumps(obj)\n",
    "        return True\n",
    "    except Exception:\n",
    "        return False\n",
    "\n",
    "to_save = {\n",
    "    k: v for k, v in globals().items()\n",
    "    if not k.startswith(\"__\") and k not in [\"pickle\", \"is_picklable\"]\n",
    "    and is_picklable(v)\n",
    "}\n",
    "\n",
    "with open(\"RBM_variables.pkl\", \"wb\") as f:\n",
    "    pickle.dump(to_save, f)\n",
    "\n",
    "print(\"Variables saved to RBM_variables.pkl\")\n"
   ]
  },
  {
   "cell_type": "code",
   "execution_count": null,
   "id": "27837fbe",
   "metadata": {},
   "outputs": [],
   "source": [
    "# =======================================================\n",
    "# --- Parameters for RBM Figure 5 ---\n",
    "# =======================================================\n",
    "T_fig5 = 1.0\n",
    "N_values_fig5 = [50, 100] # Reduced for quicker testing\n",
    "p_fig5 = 2\n",
    "\n",
    "# Interaction kernel power in denominator: |X_i - X_j|^k\n",
    "INTERACTION_POWER_FIG5 = 2 # k\n",
    "\n",
    "# Tau_RBM values (macro RBM time step for Verlet)\n",
    "# Fig 5 x-axis goes from 2^-9 to 2^-4\n",
    "tau_powers_fig5 = list(range(-9, -4 + 1)) # -9, -8, -7, -6, -5, -4\n",
    "tau_values_fig5 = [2**pow for pow in tau_powers_fig5]\n",
    "\n",
    "# Reference solution parameters for Verlet\n",
    "K_ref_fig5 = 2**15\n",
    "\n",
    "# Initial condition generation\n",
    "radius_fig5 = 2.0 # For positions\n",
    "V0_std_fig5 = 1.0      # For initial velocities V0 ~ N(0,1) -> StdDev is 1.0\n",
    "\n",
    "# Averaging RBM Error\n",
    "N_RBM_AVERAGE_RUNS_FIG5 = 1 # Use average for smoother plot\n",
    "\n",
    "\n",
    "# =======================================================\n",
    "# --- Main Simulation Loop for RBM Figure 5 ---\n",
    "# =======================================================\n",
    "\n",
    "print(\"\\n\\n=== GENERATING DATA FOR FIGURE 5: Error vs. RBM time step (2nd Order System) ===\")\n",
    "figure5_results_list = []\n",
    "fig5_total_start_time = time.time()\n",
    "np.random.seed(123) # Different seed for this figure if desired\n",
    "\n",
    "verbose_main_loops_fig5 = True\n",
    "\n",
    "for N_fig5 in N_values_fig5:\n",
    "    if verbose_main_loops_fig5: print(f\"\\nFig5: N = {N_fig5} particles...\")\n",
    "    \n",
    "    X0_pos_fig5 = sample_initial_conditions_semicircle_metropolis_hastings(\n",
    "        N_fig5, radius_fig5, steps, burn_in, proposal_std, verbose_mh=(N_fig5 < 200)\n",
    "    )\n",
    "    V0_vel_fig5 = np.random.normal(0, V0_std_fig5, N_fig5)\n",
    "    \n",
    "    if verbose_main_loops_fig5: print(f\"  Fig5: Calculating Reference Solution (N={N_fig5}, K_ref={K_ref_fig5})...\")\n",
    "    ref_start_time_fig5 = time.time()\n",
    "    X_ref_at_T_fig5 = solve_fully_coupled_verlet(\n",
    "        X0_pos_fig5, V0_vel_fig5, T_fig5, K_ref_fig5, \n",
    "        interaction_power_kernel=INTERACTION_POWER_FIG5, verbose=(K_ref_fig5 > 10000 and N_fig5 < 200)\n",
    "    )\n",
    "    ref_end_time_fig5 = time.time()\n",
    "    if verbose_main_loops_fig5: print(f\"  Fig5: Reference solution calculated. Time: {ref_end_time_fig5 - ref_start_time_fig5:.2f}s\")\n",
    "\n",
    "    for tau_rbm_fig5_val in tau_values_fig5:\n",
    "        K_rbm_fig5_val = int(round(T_fig5 / tau_rbm_fig5_val))\n",
    "        if verbose_main_loops_fig5: print(f\"    Fig5: tau_RBM = {tau_rbm_fig5_val:.5f} (K_RBM = {K_rbm_fig5_val}), AvgRuns={N_RBM_AVERAGE_RUNS_FIG5}\")\n",
    "        \n",
    "        errors_current_tau_fig5 = np.zeros(N_RBM_AVERAGE_RUNS_FIG5)\n",
    "        for rbm_run_idx in range(N_RBM_AVERAGE_RUNS_FIG5):\n",
    "            # RBM starts from the SAME X0, V0 for each averaging run\n",
    "            X_rbm_at_T_one_run_fig5 = solve_rbm1_verlet(\n",
    "                X0_pos_fig5, V0_vel_fig5, T_fig5, p_fig5, \n",
    "                K_rbm_fig5_val, interaction_power_kernel=INTERACTION_POWER_FIG5, verbose=False\n",
    "            )\n",
    "            errors_current_tau_fig5[rbm_run_idx] = calculate_rbm_error(X_rbm_at_T_one_run_fig5, X_ref_at_T_fig5)\n",
    "        \n",
    "        avg_error_fig5 = np.mean(errors_current_tau_fig5)\n",
    "        \n",
    "        figure5_results_list.append({\n",
    "            \"N\": N_fig5, \n",
    "            \"tau_RBM\": tau_rbm_fig5_val, \n",
    "            \"Error_E_hat\": avg_error_fig5\n",
    "        })\n",
    "        if verbose_main_loops_fig5: print(f\"      Fig5: N={N_fig5}, tau_RBM={tau_rbm_fig5_val:.5f}, Avg_Error_E_hat={avg_error_fig5:.3e}\")\n",
    "\n",
    "df_fig5_results = pd.DataFrame(figure5_results_list)\n",
    "print(\"\\n--- Fig5 Results (Error vs. tau_RBM for 2nd Order System) ---\")\n",
    "df_print_fig5 = df_fig5_results.copy()\n",
    "df_print_fig5[\"tau_RBM\"] = df_print_fig5[\"tau_RBM\"].map('{:.5f}'.format)\n",
    "df_print_fig5[\"Error_E_hat\"] = df_print_fig5[\"Error_E_hat\"].map('{:.3e}'.format)\n",
    "print(df_print_fig5.to_string(index=False))\n",
    "fig5_total_end_time = time.time()\n",
    "if verbose_main_loops_fig5: print(f\"Fig5 Total Time: {fig5_total_end_time - fig5_total_start_time:.2f}s\")\n",
    "\n",
    "# --- Plotting for Figure 5 ---\n",
    "plt.figure(figsize=(8, 6))\n",
    "markers_fig5 = ['o', '*', 's'] \n",
    "colors_fig5 = ['blue', 'red', 'green'] # Adjusted colors for visibility\n",
    "                                        # RBM Paper Fig 5: N=50 blue star, N=500 red circle, N=2000 green diamond\n",
    "\n",
    "unique_N_sorted_fig5 = sorted(df_fig5_results[\"N\"].unique())\n",
    "\n",
    "for i, N_val_plot in enumerate(unique_N_sorted_fig5):\n",
    "    subset_N = df_fig5_results[df_fig5_results[\"N\"] == N_val_plot].sort_values(by=\"tau_RBM\")\n",
    "    # Match paper's marker style if possible\n",
    "    marker_style = '*' if N_val_plot == 50 else ('o' if N_val_plot == 500 else 'D') # D for diamond\n",
    "    color_style = 'blue' if N_val_plot == 50 else ('red' if N_val_plot == 500 else 'green')\n",
    "\n",
    "    plt.plot(subset_N[\"tau_RBM\"], subset_N[\"Error_E_hat\"], \n",
    "                marker=marker_style, # Use marker_style based on N\n",
    "                color=color_style,   # Use color_style based on N\n",
    "                linestyle='-', \n",
    "                label=f'N={N_val_plot}')\n",
    "\n",
    "# Add reference line E = 0.2 * tau^0.5\n",
    "if tau_values_fig5: # Check if list is not empty\n",
    "    tau_ref_line = np.array(sorted(tau_values_fig5))\n",
    "    error_ref_line = 0.2 * np.sqrt(tau_ref_line)\n",
    "    plt.plot(tau_ref_line, error_ref_line, color='black', linestyle='--', label=r'$E=0.2\\tau^{1/2}$')\n",
    "\n",
    "plt.xscale('log', base=2)\n",
    "plt.yscale('log')\n",
    "plt.xlabel(r'$\\tau$ (RBM time step)')\n",
    "plt.ylabel(r'$\\hat{E}(T)$')\n",
    "plt.title(f'RBM Figure 5 Repro: Error vs. RBM time step (2nd Order System)')\n",
    "plt.legend()\n",
    "plt.grid(True, which=\"both\", ls=\"--\", alpha=0.7)\n",
    "\n",
    "# X-axis ticks for powers of 2\n",
    "# Ensure tau_values_fig5 is sorted for correct tick placement\n",
    "sorted_tau_fig5 = sorted(list(df_fig5_results[\"tau_RBM\"].unique()))\n",
    "if sorted_tau_fig5: # Check if not empty\n",
    "    xtick_labels_powers_fig5 = [int(np.log2(val)) for val in sorted_tau_fig5]\n",
    "    xtick_labels_fig5 = [f'$2^{{{pow}}}$' for pow in xtick_labels_powers_fig5]\n",
    "    plt.xticks(sorted_tau_fig5, xtick_labels_fig5)\n",
    "\n",
    "plt.show()"
   ]
  }
 ],
 "metadata": {
  "kernelspec": {
   "display_name": "Python 3",
   "language": "python",
   "name": "python3"
  },
  "language_info": {
   "codemirror_mode": {
    "name": "ipython",
    "version": 3
   },
   "file_extension": ".py",
   "mimetype": "text/x-python",
   "name": "python",
   "nbconvert_exporter": "python",
   "pygments_lexer": "ipython3",
   "version": "3.11.9"
  }
 },
 "nbformat": 4,
 "nbformat_minor": 5
}
